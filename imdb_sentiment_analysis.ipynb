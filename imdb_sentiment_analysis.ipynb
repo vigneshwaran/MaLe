{
  "nbformat": 4,
  "nbformat_minor": 0,
  "metadata": {
    "colab": {
      "name": "imdb_sentiment_analysis.ipynb",
      "provenance": [],
      "collapsed_sections": [],
      "authorship_tag": "ABX9TyPKoGMC3TOvhwGInI60ymAa",
      "include_colab_link": true
    },
    "kernelspec": {
      "name": "python3",
      "display_name": "Python 3"
    }
  },
  "cells": [
    {
      "cell_type": "markdown",
      "metadata": {
        "id": "view-in-github",
        "colab_type": "text"
      },
      "source": [
        "<a href=\"https://colab.research.google.com/github/vigneshwaran/MaLe/blob/master/imdb_sentiment_analysis.ipynb\" target=\"_parent\"><img src=\"https://colab.research.google.com/assets/colab-badge.svg\" alt=\"Open In Colab\"/></a>"
      ]
    },
    {
      "cell_type": "markdown",
      "metadata": {
        "id": "EhaxMjdQNMyJ",
        "colab_type": "text"
      },
      "source": [
        "Trained first 1000 samples, got 52% accuracy \\\n",
        "Applied weight decay and weight initialization \\\n",
        "Trained over all samples with all words, got 60-63% accuracy\n",
        "\n",
        "Movie review is overloaded with artist name, character name, movie names, some plots and stopwords. \\\n",
        "To select important words from samples, used stanford word embeddings that provided sentiment of each words,\n",
        "got accuracy of over 70% with just 10 epoches"
      ]
    },
    {
      "cell_type": "code",
      "metadata": {
        "id": "16YrfqmRLEl5",
        "colab_type": "code",
        "colab": {}
      },
      "source": [
        "import torch\n",
        "import torch.nn as nn\n",
        "import os\n",
        "import re\n",
        "import random\n",
        "import math"
      ],
      "execution_count": 0,
      "outputs": []
    },
    {
      "cell_type": "code",
      "metadata": {
        "id": "q-rNzXhhLPXv",
        "colab_type": "code",
        "outputId": "aaa39a06-88ba-45a1-ee7f-5446602e926e",
        "colab": {
          "base_uri": "https://localhost:8080/",
          "height": 202
        }
      },
      "source": [
        "!wget https://ai.stanford.edu/~amaas/data/sentiment/aclImdb_v1.tar.gz"
      ],
      "execution_count": 2,
      "outputs": [
        {
          "output_type": "stream",
          "text": [
            "--2020-04-26 16:46:44--  https://ai.stanford.edu/~amaas/data/sentiment/aclImdb_v1.tar.gz\n",
            "Resolving ai.stanford.edu (ai.stanford.edu)... 171.64.68.10\n",
            "Connecting to ai.stanford.edu (ai.stanford.edu)|171.64.68.10|:443... connected.\n",
            "HTTP request sent, awaiting response... 200 OK\n",
            "Length: 84125825 (80M) [application/x-gzip]\n",
            "Saving to: ‘aclImdb_v1.tar.gz’\n",
            "\n",
            "aclImdb_v1.tar.gz   100%[===================>]  80.23M  19.0MB/s    in 8.8s    \n",
            "\n",
            "2020-04-26 16:46:54 (9.09 MB/s) - ‘aclImdb_v1.tar.gz’ saved [84125825/84125825]\n",
            "\n"
          ],
          "name": "stdout"
        }
      ]
    },
    {
      "cell_type": "code",
      "metadata": {
        "id": "VIuuEm83Loj0",
        "colab_type": "code",
        "colab": {}
      },
      "source": [
        "!tar -xf aclImdb_v1.tar.gz"
      ],
      "execution_count": 0,
      "outputs": []
    },
    {
      "cell_type": "code",
      "metadata": {
        "id": "hgR8nr9Ka0gY",
        "colab_type": "code",
        "outputId": "3236e1ad-dcef-4cfb-e6ca-fd805e53a2b7",
        "colab": {
          "base_uri": "https://localhost:8080/",
          "height": 34
        }
      },
      "source": [
        "!pwd"
      ],
      "execution_count": 4,
      "outputs": [
        {
          "output_type": "stream",
          "text": [
            "/content\n"
          ],
          "name": "stdout"
        }
      ]
    },
    {
      "cell_type": "code",
      "metadata": {
        "id": "hsBuNF0HLwcc",
        "colab_type": "code",
        "colab": {}
      },
      "source": [
        "# ls aclImdb/"
      ],
      "execution_count": 0,
      "outputs": []
    },
    {
      "cell_type": "code",
      "metadata": {
        "id": "aS9LD_W7MpP9",
        "colab_type": "code",
        "colab": {}
      },
      "source": [
        "path = os.getcwd()"
      ],
      "execution_count": 0,
      "outputs": []
    },
    {
      "cell_type": "code",
      "metadata": {
        "id": "X3bYssTeL5p5",
        "colab_type": "code",
        "colab": {}
      },
      "source": [
        "path += '/aclImdb/'"
      ],
      "execution_count": 0,
      "outputs": []
    },
    {
      "cell_type": "code",
      "metadata": {
        "id": "AyhwZ_-3MGyM",
        "colab_type": "code",
        "colab": {}
      },
      "source": [
        "word_idx = {}"
      ],
      "execution_count": 0,
      "outputs": []
    },
    {
      "cell_type": "code",
      "metadata": {
        "id": "BXfeAzdFMJSU",
        "colab_type": "code",
        "colab": {}
      },
      "source": [
        "with open(path + '/imdb.vocab', 'r') as f:  # contains all distinct words\n",
        "    out = f.readlines()\n",
        "    for i, word in enumerate(out):\n",
        "        word_idx[word.strip('\\n')] = i"
      ],
      "execution_count": 0,
      "outputs": []
    },
    {
      "cell_type": "code",
      "metadata": {
        "id": "jtT4N1g6MLI3",
        "colab_type": "code",
        "colab": {}
      },
      "source": [
        "idx_sent = {}"
      ],
      "execution_count": 0,
      "outputs": []
    },
    {
      "cell_type": "code",
      "metadata": {
        "id": "4w_Vy8INMORu",
        "colab_type": "code",
        "colab": {}
      },
      "source": [
        "with open(path + '/imdbEr.txt', 'r') as f:   # contains sentiment of each corresponding word to vocab\n",
        "    out = f.readlines()\n",
        "    for i, word in enumerate(out):\n",
        "        idx_sent[i] = float(word.strip('\\n'))"
      ],
      "execution_count": 0,
      "outputs": []
    },
    {
      "cell_type": "code",
      "metadata": {
        "id": "LVeJRO42MmLB",
        "colab_type": "code",
        "colab": {}
      },
      "source": [
        "filepath = ['/train/pos/', '/train/neg/']"
      ],
      "execution_count": 0,
      "outputs": []
    },
    {
      "cell_type": "code",
      "metadata": {
        "id": "7AmQs_Avn-cy",
        "colab_type": "code",
        "colab": {}
      },
      "source": [
        "samples = []"
      ],
      "execution_count": 0,
      "outputs": []
    },
    {
      "cell_type": "code",
      "metadata": {
        "id": "dnsOdqxANocW",
        "colab_type": "code",
        "colab": {}
      },
      "source": [
        "for directory in filepath:\n",
        "    for index, file in enumerate(os.listdir(path + directory)):\n",
        "        # if index > 10 :\n",
        "        #     break\n",
        "        with open(path + directory + file, 'r') as f:\n",
        "            text = f.read().strip('\\n').lower()\n",
        "            words = re.findall('[a-z]+', text)\n",
        "            weights = []\n",
        "            for word in words:\n",
        "              if word_idx.get(word):\n",
        "                weights.append(idx_sent[word_idx[word]])\n",
        "              else:\n",
        "                weights.append(0.0)\n",
        "            weights = torch.FloatTensor(weights) \n",
        "            weights = weights.view(1,1,-1) # (input_size, batch_size, time_steps)\n",
        "            match = re.search('_[0-9]+', file)\n",
        "            Y = 0.1 * int(match.group()[1:])\n",
        "            Y = torch.FloatTensor([Y])\n",
        "            Y = Y.view(1,1)\n",
        "            samples.append((weights, Y))"
      ],
      "execution_count": 0,
      "outputs": []
    },
    {
      "cell_type": "code",
      "metadata": {
        "id": "cEsd5mh08Jcn",
        "colab_type": "code",
        "colab": {}
      },
      "source": [
        "random.shuffle(samples)"
      ],
      "execution_count": 0,
      "outputs": []
    },
    {
      "cell_type": "code",
      "metadata": {
        "id": "9j7ah6T-MQIW",
        "colab_type": "code",
        "colab": {}
      },
      "source": [
        "def sigmoid_prime(z):\n",
        "\t  return sigmoid(z)*(1- sigmoid(z))"
      ],
      "execution_count": 0,
      "outputs": []
    },
    {
      "cell_type": "code",
      "metadata": {
        "id": "4FHIhUaGgBAw",
        "colab_type": "code",
        "colab": {}
      },
      "source": [
        ""
      ],
      "execution_count": 0,
      "outputs": []
    },
    {
      "cell_type": "code",
      "metadata": {
        "id": "ga7naWJWMahR",
        "colab_type": "code",
        "colab": {}
      },
      "source": [
        "def sigmoid(x):\n",
        "    return 1 / (1 + torch.exp(-x))"
      ],
      "execution_count": 0,
      "outputs": []
    },
    {
      "cell_type": "code",
      "metadata": {
        "id": "CC69Ez9QMcmr",
        "colab_type": "code",
        "colab": {}
      },
      "source": [
        "class RNN():\n",
        "    def __init__(self, input_size, hidden_size, output_size, batch_size):\n",
        "        self.input_size = input_size\n",
        "        self.hidden_size = hidden_size\n",
        "        self.output_size = output_size\n",
        "        self.batch_size = batch_size\n",
        "#         self.ts = ts  # time step\n",
        "        # self.parameters = {'Waa' : torch.randn((hidden_size, hidden_size))*0.01,\n",
        "        #                    'Wax' : torch.randn((hidden_size, input_size))*0.01 ,\n",
        "        #                    'Wya' : torch.randn((output_size, hidden_size))*0.01,\n",
        "        #                    'ba'  : torch.randn((hidden_size, 1))*0.01,\n",
        "        #                    'by'  : torch.randn((output_size, 1))*0.01\n",
        "        #                   }\n",
        "        self.parameters = {'Waa' : torch.randn((hidden_size, hidden_size))*math.sqrt(1/(hidden_size)),\n",
        "                           'Wax' : torch.randn((hidden_size, input_size))*math.sqrt(1/(hidden_size)),\n",
        "                           'Wya' : torch.randn((output_size, hidden_size))*math.sqrt(1/(output_size)),\n",
        "                           'ba'  : torch.zeros((hidden_size, 1)),\n",
        "                           'by'  : torch.zeros((output_size, 1))\n",
        "                          }\n",
        "\n",
        "    def forward(self, X):\n",
        "        self.a_list = [torch.zeros(self.hidden_size, self.batch_size)]\n",
        "        self.a_out = [torch.zeros(self.output_size, self.batch_size)]\n",
        "        a_prev = self.a_list[0]\n",
        "        self.X = X\n",
        "        self.ts = X.shape[-1]\n",
        "        for t in range(self.ts):\n",
        "            xt = X[:, :, t]\n",
        "            a_prev = torch.tanh(torch.matmul(self.parameters['Waa'], a_prev) + \n",
        "                                torch.matmul(self.parameters['Wax'], xt) + self.parameters['ba'])\n",
        "            self.a_list.append(a_prev)\n",
        "        a_Out = torch.matmul(self.parameters['Wya'], a_prev) + self.parameters['by']\n",
        "        y_pred = sigmoid(a_Out)\n",
        "        self.a_out.append(a_Out)\n",
        "        self.Y = y_pred\n",
        "        return self.Y\n",
        "    \n",
        "    def getY(self):\n",
        "        return self.Y\n",
        "    \n",
        "    def getHidden(self):\n",
        "        return self.hidden_size, self.batch_size\n",
        "    \n",
        "    def normalize(self):\n",
        "        for i, j in self.parameters.items():\n",
        "            self.parameters[i] = j.normal_()\n",
        "\n",
        "    def normalize_tensor(self, l):\n",
        "        return (l - l.mean())/l.std()\n",
        "\n",
        "    def clip(self, l):\n",
        "      for i in range(len(l)):\n",
        "        l[i] = torch.clamp(l[i], min = -0.5, max = 0.5)\n",
        "        return l\n",
        "            \n",
        "                                \n",
        "    def backward(self, y, lr=0.01):\n",
        "#         print(self.Y.shape, y.shape)\n",
        "        da = self.a_list[0]\n",
        "        dx = torch.zeros(self.X.shape)\n",
        "        dWax = torch.zeros((self.parameters['Wax'].shape))\n",
        "        dWaa = torch.zeros((self.parameters['Waa'].shape))\n",
        "        dba = torch.zeros((self.parameters['ba'].shape))\n",
        "        dWya = torch.zeros((self.parameters['Wya'].shape))\n",
        "        dby = torch.zeros((self.parameters['by'].shape))\n",
        "        \n",
        "        cost = (self.Y - y) \n",
        "        dWya += torch.mm(cost, self.a_out[-1].t())\n",
        "        dby += torch.sum(cost, axis = 1, keepdims=True)\n",
        "        da += torch.mm(self.parameters['Wya'].t(), cost)\n",
        "        losses = -1.0 * (y * torch.log(self.Y))\n",
        "        ts = self.ts\n",
        "        for t in range(-1, -1*(self.ts+1), -1):\n",
        "            xt = self.X[:, :, t]\n",
        "#             cost = (self.Y[:, :, t] - y[:, :, t])*sigmoid_prime(self.a_out[t])\n",
        "# #             print(cost.shape)\n",
        "#             dWya += torch.mm(cost, self.a_list[t].t())\n",
        "#             dby += torch.sum(cost, axis = 1, keepdims=True)\n",
        "#             da += torch.mm(self.parameters['Wya'].t(), cost)\n",
        "            dz = da * (1 - (self.a_list[t])**2)\n",
        "            dxt = torch.mm(self.parameters['Wax'].t(), dz)\n",
        "            dx[:, :, t] = dxt\n",
        "            dWax += torch.mm(dz, xt.t())\n",
        "            da += torch.mm(self.parameters['Waa'].t(), dz)\n",
        "            dWaa += torch.mm(dz, self.a_list[t-1].t())\n",
        "            dba += torch.sum(dz, axis = 1, keepdims=True)\n",
        "            \n",
        "            \n",
        "        # (dWax, dWya, dWaa, dba, dby) = self.clip([dWax/ts, dWya/ts, dWaa/ts, dba/ts, dby/ts])\n",
        "        (dWax, dWya, dWaa, dba, dby) = self.clip([dWax/(bs*ts), dWya/(bs*ts), dWaa/(bs*ts), dba/(ts), dby/(bs*ts)])\n",
        "\n",
        "        # print((dWax, dWya, dWaa, dba, dby))\n",
        "        self.parameters['Wax'] -= lr*dWax\n",
        "        self.parameters['Wya'] -= lr*dWya\n",
        "        self.parameters['Waa'] -= lr*dWaa\n",
        "        self.parameters['ba']  -= lr*dba\n",
        "        self.parameters['by']  -= lr*dby\n",
        "        self.normalize()\n",
        "        return losses"
      ],
      "execution_count": 0,
      "outputs": []
    },
    {
      "cell_type": "code",
      "metadata": {
        "id": "_DFtNybSMjAu",
        "colab_type": "code",
        "outputId": "1c8dabaf-1321-47c1-f856-1cf53ce4b4b6",
        "colab": {
          "base_uri": "https://localhost:8080/",
          "height": 279
        }
      },
      "source": [
        "sentiment = RNN(input_size = 1, hidden_size = 3, output_size = 1, batch_size = 1)"
      ],
      "execution_count": 0,
      "outputs": [
        {
          "output_type": "error",
          "ename": "NameError",
          "evalue": "ignored",
          "traceback": [
            "\u001b[0;31m---------------------------------------------------------------------------\u001b[0m",
            "\u001b[0;31mNameError\u001b[0m                                 Traceback (most recent call last)",
            "\u001b[0;32m<ipython-input-2-0aba9cb930e1>\u001b[0m in \u001b[0;36m<module>\u001b[0;34m()\u001b[0m\n\u001b[0;32m----> 1\u001b[0;31m \u001b[0msentiment\u001b[0m \u001b[0;34m=\u001b[0m \u001b[0mRNN\u001b[0m\u001b[0;34m(\u001b[0m\u001b[0minput_size\u001b[0m \u001b[0;34m=\u001b[0m \u001b[0;36m1\u001b[0m\u001b[0;34m,\u001b[0m \u001b[0mhidden_size\u001b[0m \u001b[0;34m=\u001b[0m \u001b[0;36m3\u001b[0m\u001b[0;34m,\u001b[0m \u001b[0moutput_size\u001b[0m \u001b[0;34m=\u001b[0m \u001b[0;36m1\u001b[0m\u001b[0;34m,\u001b[0m \u001b[0mbatch_size\u001b[0m \u001b[0;34m=\u001b[0m \u001b[0;36m1\u001b[0m\u001b[0;34m)\u001b[0m\u001b[0;34m\u001b[0m\u001b[0;34m\u001b[0m\u001b[0m\n\u001b[0m",
            "\u001b[0;32m<ipython-input-1-28c72f3ba345>\u001b[0m in \u001b[0;36m__init__\u001b[0;34m(self, input_size, hidden_size, output_size, batch_size)\u001b[0m\n\u001b[1;32m     12\u001b[0m         \u001b[0;31m#                    'by'  : torch.randn((output_size, 1))*0.01\u001b[0m\u001b[0;34m\u001b[0m\u001b[0;34m\u001b[0m\u001b[0;34m\u001b[0m\u001b[0m\n\u001b[1;32m     13\u001b[0m         \u001b[0;31m#                   }\u001b[0m\u001b[0;34m\u001b[0m\u001b[0;34m\u001b[0m\u001b[0;34m\u001b[0m\u001b[0m\n\u001b[0;32m---> 14\u001b[0;31m         self.parameters = {'Waa' : torch.randn((hidden_size, hidden_size))*math.sqrt(1/(hidden_size)),\n\u001b[0m\u001b[1;32m     15\u001b[0m                            \u001b[0;34m'Wax'\u001b[0m \u001b[0;34m:\u001b[0m \u001b[0mtorch\u001b[0m\u001b[0;34m.\u001b[0m\u001b[0mrandn\u001b[0m\u001b[0;34m(\u001b[0m\u001b[0;34m(\u001b[0m\u001b[0mhidden_size\u001b[0m\u001b[0;34m,\u001b[0m \u001b[0minput_size\u001b[0m\u001b[0;34m)\u001b[0m\u001b[0;34m)\u001b[0m\u001b[0;34m*\u001b[0m\u001b[0mmath\u001b[0m\u001b[0;34m.\u001b[0m\u001b[0msqrt\u001b[0m\u001b[0;34m(\u001b[0m\u001b[0;36m1\u001b[0m\u001b[0;34m/\u001b[0m\u001b[0;34m(\u001b[0m\u001b[0mhidden_size\u001b[0m\u001b[0;34m)\u001b[0m\u001b[0;34m)\u001b[0m\u001b[0;34m,\u001b[0m\u001b[0;34m\u001b[0m\u001b[0;34m\u001b[0m\u001b[0m\n\u001b[1;32m     16\u001b[0m                            \u001b[0;34m'Wya'\u001b[0m \u001b[0;34m:\u001b[0m \u001b[0mtorch\u001b[0m\u001b[0;34m.\u001b[0m\u001b[0mrandn\u001b[0m\u001b[0;34m(\u001b[0m\u001b[0;34m(\u001b[0m\u001b[0moutput_size\u001b[0m\u001b[0;34m,\u001b[0m \u001b[0mhidden_size\u001b[0m\u001b[0;34m)\u001b[0m\u001b[0;34m)\u001b[0m\u001b[0;34m*\u001b[0m\u001b[0mmath\u001b[0m\u001b[0;34m.\u001b[0m\u001b[0msqrt\u001b[0m\u001b[0;34m(\u001b[0m\u001b[0;36m1\u001b[0m\u001b[0;34m/\u001b[0m\u001b[0;34m(\u001b[0m\u001b[0moutput_size\u001b[0m\u001b[0;34m)\u001b[0m\u001b[0;34m)\u001b[0m\u001b[0;34m,\u001b[0m\u001b[0;34m\u001b[0m\u001b[0;34m\u001b[0m\u001b[0m\n",
            "\u001b[0;31mNameError\u001b[0m: name 'torch' is not defined"
          ]
        }
      ]
    },
    {
      "cell_type": "code",
      "metadata": {
        "colab_type": "code",
        "id": "8wTyhYTXGoB3",
        "colab": {}
      },
      "source": [
        "# sentiment.parameters"
      ],
      "execution_count": 0,
      "outputs": []
    },
    {
      "cell_type": "code",
      "metadata": {
        "id": "LpNgVwBzoQ31",
        "colab_type": "code",
        "outputId": "bb1a2aca-a52f-4f28-ff28-187392d54d74",
        "colab": {
          "base_uri": "https://localhost:8080/",
          "height": 229
        }
      },
      "source": [
        "# count = 1\n",
        "for epoch in range(10):\n",
        "  total_cost = 0\n",
        "  acc = 0\n",
        "  for i,j in samples[:1000]:\n",
        "    pred = sentiment.forward(i)\n",
        "    acc += (pred.round() == j.round())\n",
        "    total_cost += sentiment.backward(j, lr=0.01)\n",
        "    # if (count % 1000 == 0):\n",
        "    #   print(acc)\n",
        "    #   acc = 0\n",
        "    # count += 1\n",
        "  print(epoch, total_cost, acc.item()/10)"
      ],
      "execution_count": 0,
      "outputs": [
        {
          "output_type": "error",
          "ename": "NameError",
          "evalue": "ignored",
          "traceback": [
            "\u001b[0;31m---------------------------------------------------------------------------\u001b[0m",
            "\u001b[0;31mNameError\u001b[0m                                 Traceback (most recent call last)",
            "\u001b[0;32m<ipython-input-1-42d59c4b3ea7>\u001b[0m in \u001b[0;36m<module>\u001b[0;34m()\u001b[0m\n\u001b[1;32m      2\u001b[0m   \u001b[0mtotal_cost\u001b[0m \u001b[0;34m=\u001b[0m \u001b[0;36m0\u001b[0m\u001b[0;34m\u001b[0m\u001b[0;34m\u001b[0m\u001b[0m\n\u001b[1;32m      3\u001b[0m   \u001b[0macc\u001b[0m \u001b[0;34m=\u001b[0m \u001b[0;36m0\u001b[0m\u001b[0;34m\u001b[0m\u001b[0;34m\u001b[0m\u001b[0m\n\u001b[0;32m----> 4\u001b[0;31m   \u001b[0;32mfor\u001b[0m \u001b[0mi\u001b[0m\u001b[0;34m,\u001b[0m\u001b[0mj\u001b[0m \u001b[0;32min\u001b[0m \u001b[0msamples\u001b[0m\u001b[0;34m[\u001b[0m\u001b[0;34m:\u001b[0m\u001b[0;36m1000\u001b[0m\u001b[0;34m]\u001b[0m\u001b[0;34m:\u001b[0m\u001b[0;34m\u001b[0m\u001b[0;34m\u001b[0m\u001b[0m\n\u001b[0m\u001b[1;32m      5\u001b[0m     \u001b[0mpred\u001b[0m \u001b[0;34m=\u001b[0m \u001b[0msentiment\u001b[0m\u001b[0;34m.\u001b[0m\u001b[0mforward\u001b[0m\u001b[0;34m(\u001b[0m\u001b[0mi\u001b[0m\u001b[0;34m)\u001b[0m\u001b[0;34m\u001b[0m\u001b[0;34m\u001b[0m\u001b[0m\n\u001b[1;32m      6\u001b[0m     \u001b[0macc\u001b[0m \u001b[0;34m+=\u001b[0m \u001b[0;34m(\u001b[0m\u001b[0mpred\u001b[0m\u001b[0;34m.\u001b[0m\u001b[0mround\u001b[0m\u001b[0;34m(\u001b[0m\u001b[0;34m)\u001b[0m \u001b[0;34m==\u001b[0m \u001b[0mj\u001b[0m\u001b[0;34m.\u001b[0m\u001b[0mround\u001b[0m\u001b[0;34m(\u001b[0m\u001b[0;34m)\u001b[0m\u001b[0;34m)\u001b[0m\u001b[0;34m\u001b[0m\u001b[0;34m\u001b[0m\u001b[0m\n",
            "\u001b[0;31mNameError\u001b[0m: name 'samples' is not defined"
          ]
        }
      ]
    },
    {
      "cell_type": "code",
      "metadata": {
        "id": "ek_jP5PtXTyy",
        "colab_type": "code",
        "colab": {}
      },
      "source": [
        "# weights.mean()"
      ],
      "execution_count": 0,
      "outputs": []
    },
    {
      "cell_type": "code",
      "metadata": {
        "id": "1l6afELXX2qO",
        "colab_type": "code",
        "colab": {}
      },
      "source": [
        "# weights.var()"
      ],
      "execution_count": 0,
      "outputs": []
    },
    {
      "cell_type": "code",
      "metadata": {
        "id": "AG9uRrSdYKlo",
        "colab_type": "code",
        "colab": {}
      },
      "source": [
        "# (weights - weights.mean()) / weights.std()"
      ],
      "execution_count": 0,
      "outputs": []
    },
    {
      "cell_type": "code",
      "metadata": {
        "id": "K3mx5pXyYQxH",
        "colab_type": "code",
        "colab": {}
      },
      "source": [
        "# weights"
      ],
      "execution_count": 0,
      "outputs": []
    },
    {
      "cell_type": "code",
      "metadata": {
        "id": "udZe2kMaYTFs",
        "colab_type": "code",
        "outputId": "5f030d0a-38df-47dd-9917-ee66007c6917",
        "colab": {
          "base_uri": "https://localhost:8080/",
          "height": 353
        }
      },
      "source": [
        "!wget http://nlp.stanford.edu/data/glove.6B.zip"
      ],
      "execution_count": 0,
      "outputs": [
        {
          "output_type": "stream",
          "text": [
            "--2020-04-22 15:34:25--  http://nlp.stanford.edu/data/glove.6B.zip\n",
            "Resolving nlp.stanford.edu (nlp.stanford.edu)... 171.64.67.140\n",
            "Connecting to nlp.stanford.edu (nlp.stanford.edu)|171.64.67.140|:80... connected.\n",
            "HTTP request sent, awaiting response... 302 Found\n",
            "Location: https://nlp.stanford.edu/data/glove.6B.zip [following]\n",
            "--2020-04-22 15:34:25--  https://nlp.stanford.edu/data/glove.6B.zip\n",
            "Connecting to nlp.stanford.edu (nlp.stanford.edu)|171.64.67.140|:443... connected.\n",
            "HTTP request sent, awaiting response... 301 Moved Permanently\n",
            "Location: http://downloads.cs.stanford.edu/nlp/data/glove.6B.zip [following]\n",
            "--2020-04-22 15:34:26--  http://downloads.cs.stanford.edu/nlp/data/glove.6B.zip\n",
            "Resolving downloads.cs.stanford.edu (downloads.cs.stanford.edu)... 171.64.64.22\n",
            "Connecting to downloads.cs.stanford.edu (downloads.cs.stanford.edu)|171.64.64.22|:80... connected.\n",
            "HTTP request sent, awaiting response... 200 OK\n",
            "Length: 862182613 (822M) [application/zip]\n",
            "Saving to: ‘glove.6B.zip’\n",
            "\n",
            "glove.6B.zip        100%[===================>] 822.24M  2.13MB/s    in 6m 27s  \n",
            "\n",
            "2020-04-22 15:40:53 (2.12 MB/s) - ‘glove.6B.zip’ saved [862182613/862182613]\n",
            "\n"
          ],
          "name": "stdout"
        }
      ]
    },
    {
      "cell_type": "code",
      "metadata": {
        "colab_type": "code",
        "outputId": "e1d060d1-10ac-4084-ac56-33d064bdb9be",
        "id": "xXm3uNhate4H",
        "colab": {
          "base_uri": "https://localhost:8080/",
          "height": 101
        }
      },
      "source": [
        "!unzip glove.6B.zip"
      ],
      "execution_count": 0,
      "outputs": [
        {
          "output_type": "stream",
          "text": [
            "Archive:  glove.6B.zip\n",
            "  inflating: glove.6B.50d.txt        \n",
            "  inflating: glove.6B.100d.txt       \n",
            "  inflating: glove.6B.200d.txt       \n",
            "  inflating: glove.6B.300d.txt       \n"
          ],
          "name": "stdout"
        }
      ]
    },
    {
      "cell_type": "code",
      "metadata": {
        "id": "jvcRn6Zvthze",
        "colab_type": "code",
        "colab": {}
      },
      "source": [
        "# !head glove.6B.50d.txt"
      ],
      "execution_count": 0,
      "outputs": []
    },
    {
      "cell_type": "code",
      "metadata": {
        "id": "n4-qYeiVq_SI",
        "colab_type": "code",
        "colab": {}
      },
      "source": [
        "def read_glove_vecs(glove_file):\n",
        "    with open(glove_file, 'r',encoding='UTF-8') as f:\n",
        "        words = set()\n",
        "        word_to_vec_map = {}\n",
        "        for line in f:\n",
        "            line = line.strip().split()\n",
        "            curr_word = line[0]\n",
        "            words.add(curr_word)\n",
        "            word_to_vec_map[curr_word] = torch.FloatTensor(list(map(float,line[1:])))\n",
        "        \n",
        "        i = 1\n",
        "        words_to_index = {}\n",
        "        index_to_words = {}\n",
        "        for w in sorted(words):\n",
        "            words_to_index[w] = i\n",
        "            index_to_words[i] = w\n",
        "            i = i + 1\n",
        "    return words_to_index, index_to_words, word_to_vec_map"
      ],
      "execution_count": 0,
      "outputs": []
    },
    {
      "cell_type": "code",
      "metadata": {
        "id": "iTP_6_-1t7Mp",
        "colab_type": "code",
        "colab": {}
      },
      "source": [
        "word_to_index, index_to_word, word_to_vec_map = read_glove_vecs('glove.6B.50d.txt')"
      ],
      "execution_count": 0,
      "outputs": []
    },
    {
      "cell_type": "code",
      "metadata": {
        "id": "LThJl5iQvmtZ",
        "colab_type": "code",
        "colab": {}
      },
      "source": [
        "samples_we = []"
      ],
      "execution_count": 0,
      "outputs": []
    },
    {
      "cell_type": "code",
      "metadata": {
        "id": "jGjJDJYNwcDG",
        "colab_type": "code",
        "colab": {}
      },
      "source": [
        "# word_to_index['unk']"
      ],
      "execution_count": 0,
      "outputs": []
    },
    {
      "cell_type": "code",
      "metadata": {
        "id": "ARaZKXbouBQP",
        "colab_type": "code",
        "colab": {}
      },
      "source": [
        "for directory in filepath:\n",
        "    for index, file in enumerate(os.listdir(path + directory)):\n",
        "        # if index > 10 :\n",
        "        #     break\n",
        "        with open(path + directory + file, 'r') as f:\n",
        "            text = f.read().strip('\\n').lower()\n",
        "            words = re.findall('[a-z]+', text)\n",
        "            weights = []\n",
        "            for word in words:\n",
        "              if word_to_index.get(word):\n",
        "                weights.append(word_to_vec_map[word])\n",
        "              else:\n",
        "                continue\n",
        "            weights = torch.stack(weights, dim=1) #[:min(len(weights), 10)])\n",
        "            weights = weights.view(50,1,-1)\n",
        "            match = re.search('_[0-9]+', file)\n",
        "            Y = 0.1 * int(match.group()[1:])\n",
        "            Y = torch.FloatTensor([Y])\n",
        "            Y = Y.view(1,1)\n",
        "            samples_we.append((weights, Y))"
      ],
      "execution_count": 0,
      "outputs": []
    },
    {
      "cell_type": "code",
      "metadata": {
        "id": "Tr_b2pSWxamc",
        "colab_type": "code",
        "outputId": "d301ef24-5ba4-472e-bdcd-045146492310",
        "colab": {
          "base_uri": "https://localhost:8080/",
          "height": 34
        }
      },
      "source": [
        "samples_we[0][0].shape"
      ],
      "execution_count": 0,
      "outputs": [
        {
          "output_type": "execute_result",
          "data": {
            "text/plain": [
              "torch.Size([50, 1, 249])"
            ]
          },
          "metadata": {
            "tags": []
          },
          "execution_count": 86
        }
      ]
    },
    {
      "cell_type": "code",
      "metadata": {
        "colab_type": "code",
        "id": "rj1Nn5w1bRVb",
        "colab": {}
      },
      "source": [
        "random.shuffle(samples_we)"
      ],
      "execution_count": 0,
      "outputs": []
    },
    {
      "cell_type": "code",
      "metadata": {
        "colab_type": "code",
        "id": "bV-nSFDXOTi3",
        "colab": {}
      },
      "source": [
        "sentiment_glove = RNN(input_size = 50, hidden_size = 256, output_size = 1, batch_size = 1)"
      ],
      "execution_count": 0,
      "outputs": []
    },
    {
      "cell_type": "code",
      "metadata": {
        "id": "JcptYF84u0_o",
        "colab_type": "code",
        "colab": {}
      },
      "source": [
        "# sentiment_glove.parameters"
      ],
      "execution_count": 0,
      "outputs": []
    },
    {
      "cell_type": "code",
      "metadata": {
        "colab_type": "code",
        "outputId": "b8695e3c-c22e-4e3d-f23c-1606444ee606",
        "id": "VzKK0udVOTi9",
        "colab": {
          "base_uri": "https://localhost:8080/",
          "height": 84
        }
      },
      "source": [
        "for epoch in range(20):\n",
        "  total_cost = 0\n",
        "  acc = 0\n",
        "  for i,j in samples_we:\n",
        "    pred = sentiment_glove.forward(i)\n",
        "    acc += (pred.round() == j.round())\n",
        "    # print(sentiment_glove.parameters)\n",
        "    total_cost += sentiment_glove.backward(j, lr=0.1)\n",
        "  print(epoch, total_cost, acc.item()/250)"
      ],
      "execution_count": 0,
      "outputs": [
        {
          "output_type": "stream",
          "text": [
            "0 tensor([[86339.0859]]) 49.924\n",
            "1 tensor([[86224.6328]]) 50.132\n",
            "2 tensor([[85331.6484]]) 50.376\n",
            "3 tensor([[84836.6328]]) 49.832\n"
          ],
          "name": "stdout"
        }
      ]
    },
    {
      "cell_type": "code",
      "metadata": {
        "id": "H9aQ5-W3TKsM",
        "colab_type": "code",
        "colab": {}
      },
      "source": [
        "# Used only SGD of batch size = 1 as each sample has different timesteps(words), no efficient usage of GPU. \n",
        "# One-hot encoding yields word vector size of (90k, 90k), so used pre-trained word embeddings"
      ],
      "execution_count": 0,
      "outputs": []
    },
    {
      "cell_type": "code",
      "metadata": {
        "id": "a-NxQ8UPwlYM",
        "colab_type": "code",
        "colab": {}
      },
      "source": [
        "test_filepath = ['/test/pos/', 'test/neg/']\n",
        "test_we = []"
      ],
      "execution_count": 0,
      "outputs": []
    },
    {
      "cell_type": "code",
      "metadata": {
        "id": "UM5k531bUIOY",
        "colab_type": "code",
        "colab": {}
      },
      "source": [
        "for directory in test_filepath:\n",
        "    for index, file in enumerate(os.listdir(path + directory)):\n",
        "        # if index > 10 :\n",
        "        #     break\n",
        "        with open(path + directory + file, 'r') as f:\n",
        "            text = f.read().strip('\\n').lower()\n",
        "            words = re.findall('[a-z]+', text)\n",
        "            weights = []\n",
        "            for word in words:\n",
        "              if word_to_index.get(word):\n",
        "                weights.append(word_to_vec_map[word])\n",
        "              else:\n",
        "                weights.append(word_to_vec_map['unk'])\n",
        "            weights = torch.stack(weights, dim=1) #[:min(len(weights), 10)])\n",
        "            weights = weights.view(50,1,-1)\n",
        "            match = re.search('_[0-9]+', file)\n",
        "            Y = 0.1 * int(match.group()[1:])\n",
        "            Y = torch.FloatTensor([Y])\n",
        "            Y = Y.view(1,1)\n",
        "            test_we.append((weights, Y))"
      ],
      "execution_count": 0,
      "outputs": []
    },
    {
      "cell_type": "code",
      "metadata": {
        "id": "Aj4B26yyUXMU",
        "colab_type": "code",
        "outputId": "126e9424-e254-486a-911f-b916456d7e33",
        "colab": {
          "base_uri": "https://localhost:8080/",
          "height": 34
        }
      },
      "source": [
        "# Validation\n",
        "total_cost = 0\n",
        "acc = 0\n",
        "for i,j in test_we:\n",
        "  pred = sentiment_glove.forward(i)\n",
        "  acc += (pred.round() == j.round())\n",
        "  # print(sentiment_glove.parameters)\n",
        "  # total_cost += sentiment_glove.backward(j, lr=0.001)\n",
        "print(acc.item()/len(test_we)*100)"
      ],
      "execution_count": 0,
      "outputs": [
        {
          "output_type": "stream",
          "text": [
            "50.0\n"
          ],
          "name": "stdout"
        }
      ]
    },
    {
      "cell_type": "code",
      "metadata": {
        "id": "YUAPh0lnUP-S",
        "colab_type": "code",
        "colab": {}
      },
      "source": [
        ""
      ],
      "execution_count": 0,
      "outputs": []
    },
    {
      "cell_type": "code",
      "metadata": {
        "colab_type": "code",
        "id": "vA9NZpJXrKQK",
        "colab": {}
      },
      "source": [
        "class RNN(): # LSTM\n",
        "    def __init__(self, input_size, hidden_size, output_size, batch_size):\n",
        "        self.input_size = input_size\n",
        "        self.hidden_size = hidden_size\n",
        "        self.output_size = output_size\n",
        "        self.batch_size = batch_size\n",
        "#         self.ts = ts  # time step\n",
        "        self.parameters = {'Wf' : torch.randn((hidden_size, input_size + hidden_size))*0.01,\n",
        "                           'Wi' : torch.randn((hidden_size, input_size + hidden_size))*0.01,\n",
        "                           'Wo' : torch.randn((hidden_size, input_size + hidden_size))*0.01,\n",
        "                           'Wc' : torch.randn((hidden_size, input_size + hidden_size))*0.01,\n",
        "                           'Wy' : torch.randn((output_size, hidden_size))*0.01,\n",
        "                           'bf' : torch.randn((hidden_size, 1))*0.01,\n",
        "                           'bi' : torch.randn((hidden_size, 1))*0.01,\n",
        "                           'bo' : torch.randn((hidden_size, 1))*0.01,\n",
        "                           'bc' : torch.randn((hidden_size, 1))*0.01,\n",
        "                           'by' : torch.randn((output_size,1))*0.01\n",
        "                          }\n",
        "         \n",
        "    def forward(self, X):\n",
        "        self.a = torch.zeros(self.hidden_size, X.shape[1], X.shape[-1])\n",
        "        self.c = torch.zeros(self.hidden_size, X.shape[1], X.shape[-1])\n",
        "        self.y = torch.zeros(self.output_size, X.shape[1], X.shape[-1])\n",
        "        a_prev = torch.randn(self.hidden_size, X.shape[1])\n",
        "        c_prev = torch.zeros(self.hidden_size, X.shape[1])\n",
        "        self.X = X\n",
        "        self.ts = X.shape[-1]\n",
        "        self.ft = []\n",
        "        self.it = []\n",
        "        self.ot = []\n",
        "        self.cct = []\n",
        "        for t in range(self.ts):\n",
        "            xt = X[:, :, t]\n",
        "            concat = torch.cat((a_prev, xt), dim = 0)\n",
        "            ft = sigmoid (torch.mm(self.parameters['Wf'], concat) + self.parameters['bf'])\n",
        "            it = sigmoid (torch.mm(self.parameters['Wi'], concat) + self.parameters['bi'])\n",
        "            cct = torch.tanh(torch.mm(self.parameters['Wc'], concat) + self.parameters['bc'])\n",
        "            c_prev = torch.mul(ft, c_prev) + torch.mul(it, cct)\n",
        "            ot = sigmoid (torch.mm(self.parameters['Wo'], concat) + self.parameters['bo'])\n",
        "            a_prev = torch.mul(ot, torch.tanh(c_prev))\n",
        "            self.a[:,:,t] = a_prev\n",
        "            self.c[:,:,t] = c_prev\n",
        "            self.ft.append(ft)\n",
        "            self.it.append(it)\n",
        "            self.ot.append(ot)\n",
        "            self.cct.append(cct)\n",
        "        self.a_out = torch.matmul(self.parameters['Wy'], a_prev) + self.parameters['by']\n",
        "        y_pred = sigmoid(self.a_out)\n",
        "        self.Y = y_pred\n",
        "        return self.Y\n",
        "    \n",
        "    \n",
        "    def clip(self, grad):\n",
        "        for i in grad.keys():\n",
        "          grad[i] = torch.clamp(grad[i], -0.5, 0.5, out = grad[i])\n",
        "        return grad\n",
        "\n",
        "    def update_parameters(self, gradients, ts, lr = 0.001):\n",
        "        for i, j in self.parameters.items():\n",
        "            self.parameters[i] -= lr * gradients['d' + i]\n",
        "                                    \n",
        "    def backward(self, y, lr=0.001, lmbda = 1.0e-2):\n",
        "        \n",
        "        grad = {}\n",
        "        grad['dWf'] = torch.zeros((self.parameters['Wf'].shape))\n",
        "        grad['dWi'] = torch.zeros((self.parameters['Wi'].shape))\n",
        "        grad['dWo'] = torch.zeros((self.parameters['Wo'].shape))\n",
        "        grad['dWc'] = torch.zeros((self.parameters['Wc'].shape))\n",
        "        grad['dWy'] = torch.zeros((self.parameters['Wy'].shape))\n",
        "        grad['dbf'] = torch.zeros((self.parameters['bf'].shape))\n",
        "        grad['dbi'] = torch.zeros((self.parameters['bi'].shape))\n",
        "        grad['dbo'] = torch.zeros((self.parameters['bo'].shape))\n",
        "        grad['dbc'] = torch.zeros((self.parameters['bc'].shape))\n",
        "        grad['dby'] = torch.zeros((self.parameters['by'].shape))\n",
        "        \n",
        "        \n",
        "        \n",
        "        bs = y.shape[-1]\n",
        "#         print(bs, self.X.shape[1])\n",
        "        da = torch.zeros(self.hidden_size, bs)\n",
        "        dc = torch.zeros(self.hidden_size, bs) \n",
        "        cost = (self.Y - y)\n",
        "        # print(cost.shape, self.parameters['Wya'].shape, da.shape) \n",
        "        grad['dWy'] += torch.mm(cost, self.a_out.t())\n",
        "        grad['dby'] += torch.sum(cost, axis = 1, keepdims=True)\n",
        "#         print((self.parameters['Wy'].t().shape, cost.shape))\n",
        "        da += torch.mm(self.parameters['Wy'].t(), cost)\n",
        "        losses = torch.sum(-1.0 * (y * (torch.log(self.Y))))\n",
        "        ts = self.ts\n",
        "        ot = self.ot\n",
        "        it = self.it\n",
        "        cct = self.cct\n",
        "        ft = self.ft\n",
        "        a = self.a\n",
        "        c = self.c\n",
        "        if ts < 1:\n",
        "            return 0\n",
        "        for t in reversed(range(ts)):\n",
        "            xt = self.X[:, :, t]\n",
        "            \n",
        "#             print(da.shape, c[:,:,t].shape, ot[t].shape, ot[t-1].shape)\n",
        "            dot = da * (torch.tanh(c[:,:,t])) * ot[t] * (1 - ot[t])\n",
        "            temp = ot[t] * (1 - (torch.tanh(c[:,:,t])**2))\n",
        "            dcct = dc * it[t] + temp * it[t] * da * (1 - (cct[t]**2))\n",
        "            dit = dc * cct[t] + temp * cct[t] * da * (it[t] * (1 - it[t]))\n",
        "            dft = dc * c[:,:,t-1] + temp * c[:,:,t-1] * da * (ft[t] * (1 - ft[t]))\n",
        "            concat = torch.cat((a[:, :, t-1], xt), dim = 0)\n",
        "\n",
        "            grad['dWf'] += torch.mm(dft, concat.t())\n",
        "            grad['dWi'] += torch.mm(dit, concat.t())\n",
        "            grad['dWc'] += torch.mm(dcct, concat.t())\n",
        "            grad['dWo'] += torch.mm(dot, concat.t())\n",
        "            grad['dbf'] += torch.sum(dft, axis = 1, keepdims=True)\n",
        "            grad['dbi'] += torch.sum(dit, axis = 1, keepdims=True)\n",
        "            grad['dbc'] += torch.sum(dcct, axis = 1, keepdims=True)\n",
        "            grad['dbo'] += torch.sum(dot, axis = 1, keepdims=True)\n",
        "\n",
        "            # Compute derivatives w.r.t previous hidden state, previous memory state and input. Use equations (19)-(21). (≈3 lines)\n",
        "            da = torch.mm((self.parameters['Wf'][:, : self.hidden_size]).t(), dft) + torch.mm((self.parameters['Wi'][:, : self.hidden_size]).t(), dit) + torch.mm((self.parameters['Wc'][:, : self.hidden_size]).t(), dcct) + torch.mm((self.parameters['Wo'][:, : self.hidden_size]).t(), dot)\n",
        "            dc = dc * ft[t] + ot[t] * (1 - (torch.tanh(c[:,:,t])**2)) * da * ft[t]\n",
        "\n",
        "            \n",
        "        self.grad = self.clip(grad)\n",
        "        self.update_parameters(self.grad, ts)\n",
        "        return losses"
      ],
      "execution_count": 0,
      "outputs": []
    },
    {
      "cell_type": "code",
      "metadata": {
        "id": "5tYODtaYrfYN",
        "colab_type": "code",
        "colab": {}
      },
      "source": [
        ""
      ],
      "execution_count": 0,
      "outputs": []
    },
    {
      "cell_type": "code",
      "metadata": {
        "colab_type": "code",
        "id": "L8ZkbWRnrfqD",
        "colab": {}
      },
      "source": [
        "sentiment_glove = RNN(input_size = 50, hidden_size = 128, output_size = 1, batch_size = 1)"
      ],
      "execution_count": 0,
      "outputs": []
    },
    {
      "cell_type": "code",
      "metadata": {
        "id": "KUxIoXT1YNcE",
        "colab_type": "code",
        "colab": {}
      },
      "source": [
        "batches = []\n",
        "samples_we.sort(key= lambda s: s[0].size(-1))\n",
        "x = [samples_we[0][0]]\n",
        "y = [samples_we[0][1]]\n",
        "for i in range(1, len(samples_we)):\n",
        "  if samples_we[i][0].size(-1) == samples_we[i-1][0].size(-1):\n",
        "    x.append(samples_we[i][0])\n",
        "    y.append(samples_we[i][1])\n",
        "  else:\n",
        "    x = torch.stack(x, dim = 2)\n",
        "    x = x.view(50, x.shape[2], -1)\n",
        "    y = torch.stack(y, dim = 2)\n",
        "    y = y.view(1, y.shape[2])\n",
        "    batches.append((x,y))\n",
        "    x = [samples_we[i][0]]\n",
        "    y = [samples_we[i][1]]\n",
        "x = torch.stack(x, dim = 2)\n",
        "x = x.view(50, x.shape[2], -1)\n",
        "y = torch.stack(y, dim = 2)\n",
        "y = y.view(1, y.shape[2])\n",
        "batches.append((x,y))"
      ],
      "execution_count": 0,
      "outputs": []
    },
    {
      "cell_type": "code",
      "metadata": {
        "id": "g0IY9kJdaTRT",
        "colab_type": "code",
        "outputId": "ed416ebb-3904-480b-9f0b-aba25c950189",
        "colab": {
          "base_uri": "https://localhost:8080/",
          "height": 34
        }
      },
      "source": [
        "batches[-1][0].shape"
      ],
      "execution_count": 0,
      "outputs": [
        {
          "output_type": "execute_result",
          "data": {
            "text/plain": [
              "torch.Size([50, 1, 2504])"
            ]
          },
          "metadata": {
            "tags": []
          },
          "execution_count": 146
        }
      ]
    },
    {
      "cell_type": "code",
      "metadata": {
        "id": "WlTK01Dkzum1",
        "colab_type": "code",
        "outputId": "3e8b4027-41a7-4bb7-ebc9-1b6b2714d279",
        "colab": {
          "base_uri": "https://localhost:8080/",
          "height": 34
        }
      },
      "source": [
        "len(batches)"
      ],
      "execution_count": 0,
      "outputs": [
        {
          "output_type": "execute_result",
          "data": {
            "text/plain": [
              "1029"
            ]
          },
          "metadata": {
            "tags": []
          },
          "execution_count": 147
        }
      ]
    },
    {
      "cell_type": "code",
      "metadata": {
        "id": "vPIQ6_wu0Q5e",
        "colab_type": "code",
        "colab": {}
      },
      "source": [
        "torch.cuda.set_device(0)"
      ],
      "execution_count": 0,
      "outputs": []
    },
    {
      "cell_type": "code",
      "metadata": {
        "id": "lKckdmXWfJ08",
        "colab_type": "code",
        "outputId": "b1bc3f53-da8d-4d30-ba4d-fee9b159b210",
        "colab": {
          "base_uri": "https://localhost:8080/",
          "height": 353
        }
      },
      "source": [
        "# for i in batches:\n",
        "#   pred = sentiment_glove.forward(i[0])\n",
        "for epoch in range(20):\n",
        "  total_cost = 0\n",
        "  acc = 0\n",
        "  sz = 0\n",
        "  for i in batches[:100]:\n",
        "    sz += i[1].shape[-1]\n",
        "    pred = sentiment_glove.forward(i[0])\n",
        "    # print(pred)\n",
        "    acc += torch.sum(pred.round() == i[1].round())\n",
        "    # print(sentiment_glove.parameters)\n",
        "    total_cost += sentiment_glove.backward(i[1], lr=0.001)\n",
        "  print(epoch, total_cost, acc.item()/sz)"
      ],
      "execution_count": 0,
      "outputs": [
        {
          "output_type": "stream",
          "text": [
            "0 tensor(1430.6589) 0.5445462114904246\n",
            "1 tensor(1388.7999) 0.5445462114904246\n",
            "2 tensor(1324.2302) 0.5445462114904246\n",
            "3 tensor(1238.7107) 0.5445462114904246\n",
            "4 tensor(1176.7863) 0.5445462114904246\n",
            "5 tensor(1148.0459) 0.5445462114904246\n",
            "6 tensor(1136.3022) 0.5445462114904246\n",
            "7 tensor(1130.6210) 0.5445462114904246\n",
            "8 tensor(1126.9006) 0.5445462114904246\n",
            "9 tensor(1123.8530) 0.5448237579794616\n",
            "10 tensor(1121.1937) 0.5456563974465723\n",
            "11 tensor(1118.9434) 0.5481543158479045\n",
            "12 tensor(1117.2344) 0.5539827921176798\n",
            "13 tensor(1116.3185) 0.5584235359422703\n",
            "14 tensor(1115.6949) 0.5673050235914515\n",
            "15 tensor(1115.3047) 0.5795170691090757\n",
            "16 tensor(1114.8475) 0.5856230918678879\n",
            "17 tensor(1114.1071) 0.5975575908964752\n",
            "18 tensor(1112.8406) 0.6039411601443242\n",
            "19 tensor(1110.9589) 0.6094920899250624\n"
          ],
          "name": "stdout"
        }
      ]
    },
    {
      "cell_type": "code",
      "metadata": {
        "id": "0Hy3UMwuMq2G",
        "colab_type": "code",
        "colab": {}
      },
      "source": [
        ""
      ],
      "execution_count": 0,
      "outputs": []
    },
    {
      "cell_type": "code",
      "metadata": {
        "colab_type": "code",
        "id": "6u87L5sXMrJQ",
        "colab": {}
      },
      "source": [
        "samples = []\n",
        "for directory in filepath:\n",
        "    for index, file in enumerate(os.listdir(path + directory)):\n",
        "        # if index > 10 :\n",
        "        #     break\n",
        "        with open(path + directory + file, 'r') as f:\n",
        "            text = f.read().strip('\\n').lower()\n",
        "            words = re.findall('[a-z]+', text)\n",
        "            weights = []\n",
        "            for word in words:\n",
        "              if word_idx.get(word) and abs(idx_sent[word_idx[word]]) >= 0.5: # threshold to priotize only important words\n",
        "                weights.append(idx_sent[word_idx[word]])\n",
        "              else:\n",
        "                # weights.append(0.0)\n",
        "                continue\n",
        "            weights = torch.FloatTensor(weights) \n",
        "            weights = weights.view(1,1,-1) # (input_size, batch_size, time_steps)\n",
        "            match = re.search('_[0-9]+', file)\n",
        "            Y = 0.1 * int(match.group()[1:])\n",
        "            Y = torch.FloatTensor([Y])\n",
        "            Y = Y.view(1,1)\n",
        "            samples.append((weights, Y))"
      ],
      "execution_count": 0,
      "outputs": []
    },
    {
      "cell_type": "code",
      "metadata": {
        "id": "kxvRW61Jj_lH",
        "colab_type": "code",
        "colab": {}
      },
      "source": [
        "# samples_sorted = \n",
        "samples.sort(key= lambda s: s[0].size(-1))"
      ],
      "execution_count": 0,
      "outputs": []
    },
    {
      "cell_type": "code",
      "metadata": {
        "id": "KmZUoGSPg_Yy",
        "colab_type": "code",
        "colab": {}
      },
      "source": [
        "batches_s = []\n",
        "x = [samples[0][0]]\n",
        "y = [samples[0][1]]\n",
        "for i in range(1, len(samples)):\n",
        "  if samples[i][0].size(-1) == samples[i-1][0].size(-1):\n",
        "    x.append(samples[i][0])\n",
        "    y.append(samples[i][1])\n",
        "  else:\n",
        "    x = torch.stack(x, dim = 2)\n",
        "    x = x.view(1, x.shape[2], -1)\n",
        "    y = torch.stack(y, dim = 2)\n",
        "    y = y.view(1, y.shape[2])\n",
        "    batches_s.append((x,y))\n",
        "    x = [samples[i][0]]\n",
        "    y = [samples[i][1]]\n",
        "x = torch.stack(x, dim = 2)\n",
        "x = x.view(1, x.shape[2], -1)\n",
        "y = torch.stack(y, dim = 2)\n",
        "y = y.view(1, y.shape[2])\n",
        "batches_s.append((x,y))"
      ],
      "execution_count": 0,
      "outputs": []
    },
    {
      "cell_type": "code",
      "metadata": {
        "colab_type": "code",
        "id": "NhqmKtwNMwpz",
        "colab": {}
      },
      "source": [
        "class RNN():\n",
        "    def __init__(self, input_size, hidden_size, output_size, batch_size):\n",
        "        self.input_size = input_size\n",
        "        self.hidden_size = hidden_size\n",
        "        self.output_size = output_size\n",
        "        self.batch_size = batch_size\n",
        "#         self.ts = ts  # time step\n",
        "        # self.parameters = {'Waa' : torch.randn((hidden_size, hidden_size))*math.sqrt(1/(hidden_size)),\n",
        "        #                    'Wax' : torch.randn((hidden_size, input_size))*math.sqrt(1/(hidden_size)),\n",
        "        #                    'Wya' : torch.randn((output_size, hidden_size))*math.sqrt(1/(output_size)),\n",
        "        #                    'ba'  : torch.zeros((hidden_size, 1)),\n",
        "        #                    'by'  : torch.zeros((output_size, 1))\n",
        "        #                   }\n",
        "        self.parameters = {'Waa' : torch.randn((hidden_size, hidden_size))*0.01,\n",
        "                           'Wax' : torch.randn((hidden_size, input_size))*0.01 ,\n",
        "                           'Wya' : torch.randn((output_size, hidden_size))*0.01,\n",
        "                           'ba'  : torch.randn((hidden_size, 1))*0.01,\n",
        "                           'by'  : torch.randn((output_size, 1))*0.01\n",
        "                          }\n",
        "         \n",
        "    def forward(self, X):\n",
        "        self.a_list = [torch.zeros(self.hidden_size, X.shape[1])]\n",
        "        self.a_out = [torch.zeros(self.output_size, X.shape[1])]\n",
        "        a_prev = torch.randn(self.hidden_size, X.shape[1])\n",
        "        self.X = X\n",
        "        self.ts = X.shape[-1]\n",
        "        for t in range(min(50,self.ts)):\n",
        "            xt = X[:, :, t]\n",
        "            a_prev = torch.tanh(torch.matmul(self.parameters['Waa'], a_prev) + \n",
        "                                torch.matmul(self.parameters['Wax'], xt) + self.parameters['ba'])\n",
        "            self.a_list.append(a_prev)\n",
        "        a_Out = torch.matmul(self.parameters['Wya'], a_prev) + self.parameters['by']\n",
        "        y_pred = sigmoid(a_Out)\n",
        "        self.a_out.append(a_Out)\n",
        "        self.Y = y_pred\n",
        "        return self.Y\n",
        "    \n",
        "    def getY(self):\n",
        "        return self.Y\n",
        "    \n",
        "    def getHidden(self):\n",
        "        return self.hidden_size, self.batch_size\n",
        "    \n",
        "    def normalize(self):\n",
        "        for i, j in self.parameters.items():\n",
        "            self.parameters[i] = (j - j.mean())/j.std()\n",
        "    def normalise(self):\n",
        "        for i, j in self.parameters.items():\n",
        "            self.parameters[i] = j.normal_()\n",
        "    def normalize_tensor(self, l):\n",
        "        return (l - l.mean())/l.std()\n",
        "\n",
        "    def clip(self, l):\n",
        "      clamped = []\n",
        "      for i in range(len(l)):\n",
        "        clamped.append(torch.clamp(l[i], min = -0.5, max = 0.5))\n",
        "      return clamped\n",
        "            \n",
        "                                \n",
        "    def backward(self, y, lr=0.001, lmbda = 1.0e-2):\n",
        "        bs = y.shape[-1]\n",
        "#         print(self.Y.shape, y.shape)\n",
        "        da = self.a_list[0]\n",
        "        dx = torch.zeros(self.X.shape)\n",
        "        dWax = torch.zeros((self.parameters['Wax'].shape))\n",
        "        dWaa = torch.zeros((self.parameters['Waa'].shape))\n",
        "        dba = torch.zeros((self.parameters['ba'].shape))\n",
        "        dWya = torch.zeros((self.parameters['Wya'].shape))\n",
        "        dby = torch.zeros((self.parameters['by'].shape))\n",
        "        \n",
        "        cost = (self.Y - y)\n",
        "        # print(cost.shape, self.parameters['Wya'].shape, da.shape) \n",
        "        dWya += torch.mm(cost, self.a_out[-1].t())\n",
        "        dby += torch.sum(cost, axis = 1, keepdims=True)\n",
        "        da += torch.mm(self.parameters['Wya'].t(), cost)\n",
        "        losses = torch.sum(-1.0 * (y.mm(torch.log(self.Y.t()))))\n",
        "        ts = self.ts\n",
        "        if ts < 1:\n",
        "          return 0\n",
        "        for t in reversed(range(0, min(50,ts))):\n",
        "            xt = self.X[:, :, t]\n",
        "#             cost = (self.Y[:, :, t] - y[:, :, t])*sigmoid_prime(self.a_out[t])\n",
        "# #             print(cost.shape)\n",
        "#             dWya += torch.mm(cost, self.a_list[t].t())\n",
        "#             dby += torch.sum(cost, axis = 1, keepdims=True)\n",
        "#             da += torch.mm(self.parameters['Wya'].t(), cost)\n",
        "            dz = da * (1 - (self.a_list[t])**2)\n",
        "            dxt = torch.mm(self.parameters['Wax'].t(), dz)\n",
        "            dx[:, :, t] = dxt\n",
        "            dWax += torch.mm(dz, xt.t())\n",
        "            da += torch.mm(self.parameters['Waa'].t(), dz)\n",
        "            dWaa += torch.mm(dz, self.a_list[t-1].t())\n",
        "            dba += torch.sum(dz, axis = 1, keepdims=True)\n",
        "        # print((dWax, dWya, dWaa, dba, dby))   \n",
        "        (dWax, dWya, dWaa, dba, dby) = self.clip([dWax/ts, dWya/ts, dWaa/ts, dba/ts, dby/ts])\n",
        "        # (dWax, dWya, dWaa, dba, dby) = self.clip([dWax, dWya, dWaa, dba, dby])\n",
        "        # print((dWax, dWya, dWaa, dba, dby))\n",
        "        # self.parameters['Wax'] = (1-lr*(lmbda/bs*ts))*self.parameters['Wax']-lr*dWax\n",
        "        # self.parameters['Wya'] = (1-lr*(lmbda/bs*ts))*self.parameters['Wya']-lr*dWya\n",
        "        # self.parameters['Waa'] = (1-lr*(lmbda/bs*ts))*self.parameters['Waa']-lr*dWaa\n",
        "        # self.parameters['ba']  -= lr*dba/self.ts\n",
        "        # self.parameters['by']  -= lr*dby/self.ts\n",
        "        self.parameters['Wax'] -= lr*dWax\n",
        "        self.parameters['Wya'] -= lr*dWya\n",
        "        self.parameters['Waa'] -= lr*dWaa\n",
        "        self.parameters['ba']  -= lr*dba\n",
        "        self.parameters['by']  -= lr*dby\n",
        "        return losses"
      ],
      "execution_count": 0,
      "outputs": []
    },
    {
      "cell_type": "code",
      "metadata": {
        "colab_type": "code",
        "id": "eXgocpohMwp-",
        "colab": {}
      },
      "source": [
        "sentiment = RNN(input_size = 1, hidden_size = 256, output_size = 1, batch_size = 1)"
      ],
      "execution_count": 0,
      "outputs": []
    },
    {
      "cell_type": "code",
      "metadata": {
        "colab_type": "code",
        "id": "4RWvFd2dMwqJ",
        "colab": {}
      },
      "source": [
        "# sentiment.parameters"
      ],
      "execution_count": 0,
      "outputs": []
    },
    {
      "cell_type": "code",
      "metadata": {
        "id": "xxuLG4IJhzvx",
        "colab_type": "code",
        "outputId": "ef38a7ff-fe00-4121-8e67-c3a3bd35a8a5",
        "colab": {
          "base_uri": "https://localhost:8080/",
          "height": 353
        }
      },
      "source": [
        "# for i in batches:\n",
        "#   pred = sentiment_glove.forward(i[0])\n",
        "for epoch in range(20):\n",
        "  total_cost = 0\n",
        "  acc = 0\n",
        "  sz = 0\n",
        "  for i in batches_s:\n",
        "    sz += i[1].shape[-1]\n",
        "    pred = sentiment.forward(i[0])\n",
        "    # print(pred)\n",
        "    acc += torch.sum(pred.round() == i[1].round())\n",
        "    # print(sentiment.parameters)\n",
        "    total_cost += sentiment.backward(i[1], lr=0.0001)\n",
        "  # print(sentiment.parameters)\n",
        "\n",
        "  print(epoch, total_cost, acc.item()/sz)"
      ],
      "execution_count": 0,
      "outputs": [
        {
          "output_type": "stream",
          "text": [
            "0 tensor(9405.6777) 0.70332\n",
            "1 tensor(9369.3145) 0.71124\n",
            "2 tensor(9330.1934) 0.713\n",
            "3 tensor(9287.5986) 0.71352\n",
            "4 tensor(9241.3232) 0.71416\n",
            "5 tensor(9188.8105) 0.7136\n",
            "6 tensor(9131.2930) 0.7118\n",
            "7 tensor(9070.2031) 0.71168\n",
            "8 tensor(8996.1113) 0.7098\n",
            "9 tensor(8916.8535) 0.70668\n",
            "10 tensor(8822.8633) 0.7062\n",
            "11 tensor(8725.8760) 0.7058\n",
            "12 tensor(8617.0488) 0.705\n",
            "13 tensor(8503.0059) 0.70528\n",
            "14 tensor(8378.1104) 0.70584\n",
            "15 tensor(8253.4287) 0.70632\n",
            "16 tensor(8123.1636) 0.7068\n",
            "17 tensor(7999.1851) 0.70792\n",
            "18 tensor(7873.8120) 0.70924\n",
            "19 tensor(7749.6997) 0.71084\n"
          ],
          "name": "stdout"
        }
      ]
    },
    {
      "cell_type": "code",
      "metadata": {
        "colab_type": "code",
        "id": "HL3xa2AT7tbE",
        "colab": {}
      },
      "source": [
        "test_filepath = ['/test/pos/', 'test/neg/']\n",
        "test_we = []"
      ],
      "execution_count": 0,
      "outputs": []
    },
    {
      "cell_type": "code",
      "metadata": {
        "colab_type": "code",
        "id": "x7PZL_nH7tbQ",
        "colab": {}
      },
      "source": [
        "for directory in test_filepath:\n",
        "    for index, file in enumerate(os.listdir(path + directory)):\n",
        "        # if index > 10 :\n",
        "        #     break\n",
        "        with open(path + directory + file, 'r') as f:\n",
        "            text = f.read().strip('\\n').lower()\n",
        "            words = re.findall('[a-z]+', text)\n",
        "            weights = []\n",
        "            for word in words:\n",
        "              if word_idx.get(word) and abs(idx_sent[word_idx[word]]) >= 1.0:\n",
        "                weights.append(idx_sent[word_idx[word]])\n",
        "              else:\n",
        "                # weights.append(0.0)\n",
        "                continue\n",
        "            weights = torch.FloatTensor(weights) \n",
        "            weights = weights.view(1,1,-1) # (input_size, batch_size, time_steps)\n",
        "            match = re.search('_[0-9]+', file)\n",
        "            Y = 0.1 * int(match.group()[1:])\n",
        "            Y = torch.FloatTensor([Y])\n",
        "            Y = Y.view(1,1)\n",
        "            test_we.append((weights, Y))"
      ],
      "execution_count": 0,
      "outputs": []
    },
    {
      "cell_type": "code",
      "metadata": {
        "colab_type": "code",
        "outputId": "fe2cac86-be79-40c8-ef65-17e0fd4d40a6",
        "id": "jIRcNdk87tba",
        "colab": {
          "base_uri": "https://localhost:8080/",
          "height": 34
        }
      },
      "source": [
        "# Validation\n",
        "total_cost = 0\n",
        "acc = 0\n",
        "for i,j in test_we:\n",
        "  pred = sentiment.forward(i)\n",
        "  acc += (pred.round() == j.round())\n",
        "  # print(sentiment_glove.parameters)\n",
        "  # total_cost += sentiment_glove.backward(j, lr=0.001)\n",
        "print(acc.item()/len(test_we)*100)"
      ],
      "execution_count": 0,
      "outputs": [
        {
          "output_type": "stream",
          "text": [
            "71.816\n"
          ],
          "name": "stdout"
        }
      ]
    }
  ]
}