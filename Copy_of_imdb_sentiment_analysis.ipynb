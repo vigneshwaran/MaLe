{
  "nbformat": 4,
  "nbformat_minor": 0,
  "metadata": {
    "colab": {
      "name": "Copy of imdb_sentiment_analysis.ipynb",
      "provenance": [],
      "collapsed_sections": [],
      "authorship_tag": "ABX9TyM0Mg9Wsbv2szPSjgbZeRrA",
      "include_colab_link": true
    },
    "kernelspec": {
      "name": "python3",
      "display_name": "Python 3"
    },
    "accelerator": "GPU"
  },
  "cells": [
    {
      "cell_type": "markdown",
      "metadata": {
        "id": "view-in-github",
        "colab_type": "text"
      },
      "source": [
        "<a href=\"https://colab.research.google.com/github/vigneshwaran/MaLe/blob/master/Copy_of_imdb_sentiment_analysis.ipynb\" target=\"_parent\"><img src=\"https://colab.research.google.com/assets/colab-badge.svg\" alt=\"Open In Colab\"/></a>"
      ]
    },
    {
      "cell_type": "markdown",
      "metadata": {
        "id": "EhaxMjdQNMyJ",
        "colab_type": "text"
      },
      "source": [
        "Trained first 1000 samples, got 52% accuracy \\\n",
        "Applied weight decay and weight initialization \\\n",
        "Trained over all samples with all words, got 60-63% accuracy\n",
        "\n",
        "Movie review is overloaded with artist name, character name, movie names, some plots and stopwords. \\\n",
        "To select important words from samples, used stanford word embeddings that provided sentiment of each words,\n",
        "got accuracy of over 70%."
      ]
    },
    {
      "cell_type": "code",
      "metadata": {
        "id": "16YrfqmRLEl5",
        "colab_type": "code",
        "colab": {}
      },
      "source": [
        "import torch\n",
        "import torch.nn as nn\n",
        "import os\n",
        "import re\n",
        "import random\n",
        "import math"
      ],
      "execution_count": 0,
      "outputs": []
    },
    {
      "cell_type": "code",
      "metadata": {
        "id": "rkehN7yykpPJ",
        "colab_type": "code",
        "colab": {}
      },
      "source": [
        "# ls"
      ],
      "execution_count": 0,
      "outputs": []
    },
    {
      "cell_type": "code",
      "metadata": {
        "id": "q-rNzXhhLPXv",
        "colab_type": "code",
        "outputId": "1805ba9e-432d-45af-b982-6537bd371929",
        "colab": {
          "base_uri": "https://localhost:8080/",
          "height": 202
        }
      },
      "source": [
        "# Dataset\n",
        "!wget https://ai.stanford.edu/~amaas/data/sentiment/aclImdb_v1.tar.gz "
      ],
      "execution_count": 3,
      "outputs": [
        {
          "output_type": "stream",
          "text": [
            "--2020-05-06 06:17:24--  https://ai.stanford.edu/~amaas/data/sentiment/aclImdb_v1.tar.gz\n",
            "Resolving ai.stanford.edu (ai.stanford.edu)... 171.64.68.10\n",
            "Connecting to ai.stanford.edu (ai.stanford.edu)|171.64.68.10|:443... connected.\n",
            "HTTP request sent, awaiting response... 200 OK\n",
            "Length: 84125825 (80M) [application/x-gzip]\n",
            "Saving to: ‘aclImdb_v1.tar.gz’\n",
            "\n",
            "\raclImdb_v1.tar.gz     0%[                    ]       0  --.-KB/s               \raclImdb_v1.tar.gz     0%[                    ] 424.00K  1.89MB/s               \raclImdb_v1.tar.gz     3%[                    ]   2.59M  6.18MB/s               \raclImdb_v1.tar.gz    14%[=>                  ]  11.30M  18.3MB/s               \raclImdb_v1.tar.gz    33%[=====>              ]  26.82M  32.8MB/s               \raclImdb_v1.tar.gz    59%[==========>         ]  47.74M  46.9MB/s               \raclImdb_v1.tar.gz    86%[================>   ]  69.40M  56.9MB/s               \raclImdb_v1.tar.gz   100%[===================>]  80.23M  60.9MB/s    in 1.3s    \n",
            "\n",
            "2020-05-06 06:17:25 (60.9 MB/s) - ‘aclImdb_v1.tar.gz’ saved [84125825/84125825]\n",
            "\n"
          ],
          "name": "stdout"
        }
      ]
    },
    {
      "cell_type": "code",
      "metadata": {
        "id": "VIuuEm83Loj0",
        "colab_type": "code",
        "colab": {}
      },
      "source": [
        "!tar -xf aclImdb_v1.tar.gz"
      ],
      "execution_count": 0,
      "outputs": []
    },
    {
      "cell_type": "code",
      "metadata": {
        "id": "hsBuNF0HLwcc",
        "colab_type": "code",
        "outputId": "8dd92d66-a96b-41cb-8517-4dacf9e6e115",
        "colab": {
          "base_uri": "https://localhost:8080/",
          "height": 34
        }
      },
      "source": [
        "ls"
      ],
      "execution_count": 5,
      "outputs": [
        {
          "output_type": "stream",
          "text": [
            "\u001b[0m\u001b[01;34maclImdb\u001b[0m/  aclImdb_v1.tar.gz  \u001b[01;34msample_data\u001b[0m/\n"
          ],
          "name": "stdout"
        }
      ]
    },
    {
      "cell_type": "code",
      "metadata": {
        "id": "aS9LD_W7MpP9",
        "colab_type": "code",
        "colab": {}
      },
      "source": [
        "path = os.getcwd()"
      ],
      "execution_count": 0,
      "outputs": []
    },
    {
      "cell_type": "code",
      "metadata": {
        "id": "X3bYssTeL5p5",
        "colab_type": "code",
        "colab": {}
      },
      "source": [
        "path += '/aclImdb/'"
      ],
      "execution_count": 0,
      "outputs": []
    },
    {
      "cell_type": "code",
      "metadata": {
        "id": "LVeJRO42MmLB",
        "colab_type": "code",
        "colab": {}
      },
      "source": [
        "# Path containing training data\n",
        "filepath = ['/train/pos/', '/train/neg/']"
      ],
      "execution_count": 0,
      "outputs": []
    },
    {
      "cell_type": "code",
      "metadata": {
        "id": "hdCj0sFGfIO8",
        "colab_type": "code",
        "outputId": "6784e219-030b-422b-8f51-42025a269c48",
        "colab": {
          "base_uri": "https://localhost:8080/",
          "height": 101
        }
      },
      "source": [
        "# Each file name is given as fileindex_sentiment.txt\n",
        "\n",
        "!ls aclImdb/train/pos/ | head -5"
      ],
      "execution_count": 0,
      "outputs": [
        {
          "output_type": "stream",
          "text": [
            "0_9.txt\n",
            "10000_8.txt\n",
            "10001_10.txt\n",
            "10002_7.txt\n",
            "10003_8.txt\n"
          ],
          "name": "stdout"
        }
      ]
    },
    {
      "cell_type": "code",
      "metadata": {
        "id": "FQaGONTB8tP4",
        "colab_type": "code",
        "colab": {}
      },
      "source": [
        ""
      ],
      "execution_count": 0,
      "outputs": []
    },
    {
      "cell_type": "code",
      "metadata": {
        "id": "Hut_vnTO6SBJ",
        "colab_type": "code",
        "outputId": "c5d88e24-cba3-4a88-a8dd-5e86a82b5267",
        "colab": {
          "base_uri": "https://localhost:8080/",
          "height": 286
        }
      },
      "source": [
        "!wget https://github.com/allenai/spv2/raw/master/model/glove.6B.100d.txt.gz"
      ],
      "execution_count": 9,
      "outputs": [
        {
          "output_type": "stream",
          "text": [
            "--2020-05-06 06:17:49--  https://github.com/allenai/spv2/raw/master/model/glove.6B.100d.txt.gz\n",
            "Resolving github.com (github.com)... 192.30.255.112\n",
            "Connecting to github.com (github.com)|192.30.255.112|:443... connected.\n",
            "HTTP request sent, awaiting response... 302 Found\n",
            "Location: https://media.githubusercontent.com/media/allenai/spv2/master/model/glove.6B.100d.txt.gz [following]\n",
            "--2020-05-06 06:17:49--  https://media.githubusercontent.com/media/allenai/spv2/master/model/glove.6B.100d.txt.gz\n",
            "Resolving media.githubusercontent.com (media.githubusercontent.com)... 151.101.0.133, 151.101.64.133, 151.101.128.133, ...\n",
            "Connecting to media.githubusercontent.com (media.githubusercontent.com)|151.101.0.133|:443... connected.\n",
            "HTTP request sent, awaiting response... 200 OK\n",
            "Length: 134409071 (128M) [application/octet-stream]\n",
            "Saving to: ‘glove.6B.100d.txt.gz’\n",
            "\n",
            "glove.6B.100d.txt.g 100%[===================>] 128.18M   279MB/s    in 0.5s    \n",
            "\n",
            "2020-05-06 06:17:52 (279 MB/s) - ‘glove.6B.100d.txt.gz’ saved [134409071/134409071]\n",
            "\n"
          ],
          "name": "stdout"
        }
      ]
    },
    {
      "cell_type": "code",
      "metadata": {
        "id": "6fJxg-Ft7GNs",
        "colab_type": "code",
        "colab": {}
      },
      "source": [
        "!gunzip -c glove.6B.100d.txt.gz > glove.6B.100d.txt"
      ],
      "execution_count": 0,
      "outputs": []
    },
    {
      "cell_type": "code",
      "metadata": {
        "id": "Wz1IwZ0s8bGD",
        "colab_type": "code",
        "outputId": "aa68c0e1-c819-436c-99f4-53f72c303870",
        "colab": {
          "base_uri": "https://localhost:8080/",
          "height": 134
        }
      },
      "source": [
        "ls -al"
      ],
      "execution_count": 0,
      "outputs": [
        {
          "output_type": "stream",
          "text": [
            "total 470260\n",
            "drwxr-xr-x 1 root root      4096 May  5 08:26 \u001b[0m\u001b[01;34m.\u001b[0m/\n",
            "drwxr-xr-x 1 root root      4096 May  5 08:16 \u001b[01;34m..\u001b[0m/\n",
            "drwxr-xr-x 1 root root      4096 Apr 29 16:14 \u001b[01;34m.config\u001b[0m/\n",
            "-rw-r--r-- 1 root root 347116733 May  5 08:26 glove.6B.100d.txt\n",
            "-rw-r--r-- 1 root root 134409071 May  5 08:22 glove.6B.100d.txt.gz\n",
            "drwxr-xr-x 1 root root      4096 Apr  3 16:24 \u001b[01;34msample_data\u001b[0m/\n"
          ],
          "name": "stdout"
        }
      ]
    },
    {
      "cell_type": "code",
      "metadata": {
        "id": "udZe2kMaYTFs",
        "colab_type": "code",
        "outputId": "8fd264fc-9a07-4f21-c611-1f6d2f34ef0d",
        "colab": {
          "base_uri": "https://localhost:8080/",
          "height": 353
        }
      },
      "source": [
        "# # Pretrained word embedding, GLOVE\n",
        "# !wget http://nlp.stanford.edu/data/glove.6B.zip\n",
        "# !unzip glove.6B.zip"
      ],
      "execution_count": 0,
      "outputs": [
        {
          "output_type": "stream",
          "text": [
            "--2020-05-04 07:26:10--  http://nlp.stanford.edu/data/glove.6B.zip\n",
            "Resolving nlp.stanford.edu (nlp.stanford.edu)... 171.64.67.140\n",
            "Connecting to nlp.stanford.edu (nlp.stanford.edu)|171.64.67.140|:80... connected.\n",
            "HTTP request sent, awaiting response... 302 Found\n",
            "Location: https://nlp.stanford.edu/data/glove.6B.zip [following]\n",
            "--2020-05-04 07:26:10--  https://nlp.stanford.edu/data/glove.6B.zip\n",
            "Connecting to nlp.stanford.edu (nlp.stanford.edu)|171.64.67.140|:443... connected.\n",
            "HTTP request sent, awaiting response... 301 Moved Permanently\n",
            "Location: http://downloads.cs.stanford.edu/nlp/data/glove.6B.zip [following]\n",
            "--2020-05-04 07:26:10--  http://downloads.cs.stanford.edu/nlp/data/glove.6B.zip\n",
            "Resolving downloads.cs.stanford.edu (downloads.cs.stanford.edu)... 171.64.64.22\n",
            "Connecting to downloads.cs.stanford.edu (downloads.cs.stanford.edu)|171.64.64.22|:80... connected.\n",
            "HTTP request sent, awaiting response... 200 OK\n",
            "Length: 862182613 (822M) [application/zip]\n",
            "Saving to: ‘glove.6B.zip’\n",
            "\n",
            "glove.6B.zip        100%[===================>] 822.24M  1.88MB/s    in 6m 28s  \n",
            "\n",
            "2020-05-04 07:32:38 (2.12 MB/s) - ‘glove.6B.zip’ saved [862182613/862182613]\n",
            "\n"
          ],
          "name": "stdout"
        }
      ]
    },
    {
      "cell_type": "code",
      "metadata": {
        "id": "jvcRn6Zvthze",
        "colab_type": "code",
        "colab": {}
      },
      "source": [
        "# !head glove.6B.50d.txt"
      ],
      "execution_count": 0,
      "outputs": []
    },
    {
      "cell_type": "code",
      "metadata": {
        "id": "n4-qYeiVq_SI",
        "colab_type": "code",
        "colab": {}
      },
      "source": [
        "def read_glove_vecs(glove_file):\n",
        "    \"\"\"\n",
        "    Returns word to index, index to words, word vector of words in form of dictionary\n",
        "    \"\"\"\n",
        "    with open(glove_file, 'r',encoding='UTF-8') as f:\n",
        "        words = set()\n",
        "        word_to_vec_map = {}\n",
        "        for line in f:\n",
        "            line = line.strip().split()\n",
        "            curr_word = line[0]\n",
        "            words.add(curr_word)\n",
        "            word_to_vec_map[curr_word] = torch.FloatTensor(list(map(float,line[1:])))\n",
        "        \n",
        "        i = 1\n",
        "        words_to_index = {}\n",
        "        index_to_words = {}\n",
        "        for w in sorted(words):\n",
        "            words_to_index[w] = i\n",
        "            index_to_words[i] = w\n",
        "            i = i + 1\n",
        "    return words_to_index, index_to_words, word_to_vec_map"
      ],
      "execution_count": 0,
      "outputs": []
    },
    {
      "cell_type": "code",
      "metadata": {
        "id": "iTP_6_-1t7Mp",
        "colab_type": "code",
        "colab": {}
      },
      "source": [
        "word_to_index, index_to_word, word_to_vec_map = read_glove_vecs('glove.6B.100d.txt')"
      ],
      "execution_count": 0,
      "outputs": []
    },
    {
      "cell_type": "code",
      "metadata": {
        "id": "LThJl5iQvmtZ",
        "colab_type": "code",
        "colab": {}
      },
      "source": [
        "# Storing word embeds of review and its corresponding sentiment.  size=(N,2) \n",
        "# [word vectors, sentiment]\n",
        "samples_we = []"
      ],
      "execution_count": 0,
      "outputs": []
    },
    {
      "cell_type": "code",
      "metadata": {
        "id": "ARaZKXbouBQP",
        "colab_type": "code",
        "colab": {}
      },
      "source": [
        "\"\"\" Read each file in train directory and convert sentences to word vectors\"\"\"\n",
        "for directory in filepath:\n",
        "    for index, file in enumerate(os.listdir(path + directory)):\n",
        "        with open(path + directory + file, 'r') as f:\n",
        "            text = f.read().strip('\\n').lower()\n",
        "            words = re.findall('[a-z]+', text)  # selecting only alphabets from review\n",
        "            weights = []   # word embeds\n",
        "            for word in words:\n",
        "              if word_to_index.get(word):\n",
        "                weights.append(word_to_vec_map[word])\n",
        "              else:\n",
        "                continue\n",
        "            weights = torch.stack(weights, dim=1) \n",
        "            weights = weights.view(100,1,-1)   # (input_size, batch_size, time_steps)\n",
        "            match = re.search('_[0-9]+', file)\n",
        "            Y = 0.1 * int(match.group()[1:])\n",
        "            Y = torch.FloatTensor([Y])\n",
        "            Y = Y.view(1,1)\n",
        "            samples_we.append((weights, Y))   # (word embeds, sentiment)"
      ],
      "execution_count": 0,
      "outputs": []
    },
    {
      "cell_type": "code",
      "metadata": {
        "id": "Tr_b2pSWxamc",
        "colab_type": "code",
        "outputId": "33f6ae1c-f8b4-45e0-e5a4-a0b7d3a978e4",
        "colab": {
          "base_uri": "https://localhost:8080/",
          "height": 34
        }
      },
      "source": [
        "samples_we[0][0].shape"
      ],
      "execution_count": 15,
      "outputs": [
        {
          "output_type": "execute_result",
          "data": {
            "text/plain": [
              "torch.Size([100, 1, 236])"
            ]
          },
          "metadata": {
            "tags": []
          },
          "execution_count": 15
        }
      ]
    },
    {
      "cell_type": "code",
      "metadata": {
        "id": "cEsd5mh08Jcn",
        "colab_type": "code",
        "colab": {}
      },
      "source": [
        "random.shuffle(samples_we)"
      ],
      "execution_count": 0,
      "outputs": []
    },
    {
      "cell_type": "code",
      "metadata": {
        "id": "9j7ah6T-MQIW",
        "colab_type": "code",
        "colab": {}
      },
      "source": [
        "def sigmoid_prime(z):\n",
        "\t  return sigmoid(z)*(1- sigmoid(z))"
      ],
      "execution_count": 0,
      "outputs": []
    },
    {
      "cell_type": "code",
      "metadata": {
        "id": "ga7naWJWMahR",
        "colab_type": "code",
        "colab": {}
      },
      "source": [
        "def sigmoid(x):\n",
        "    return 1 / (1 + torch.exp(-x))"
      ],
      "execution_count": 0,
      "outputs": []
    },
    {
      "cell_type": "code",
      "metadata": {
        "id": "CC69Ez9QMcmr",
        "colab_type": "code",
        "colab": {}
      },
      "source": [
        "class RNN():\n",
        "    def __init__(self, input_size, hidden_size, output_size, batch_size):\n",
        "        self.input_size = input_size\n",
        "        self.hidden_size = hidden_size\n",
        "        self.output_size = output_size\n",
        "        self.batch_size = batch_size\n",
        "#         self.ts = ts  # time step\n",
        "        # self.parameters = {'Waa' : torch.randn((hidden_size, hidden_size))*math.sqrt(1/(hidden_size)),\n",
        "        #                    'Wax' : torch.randn((hidden_size, input_size))*math.sqrt(1/(hidden_size)),\n",
        "        #                    'Wya' : torch.randn((output_size, hidden_size))*math.sqrt(1/(output_size)),\n",
        "        #                    'ba'  : torch.zeros((hidden_size, 1)),\n",
        "        #                    'by'  : torch.zeros((output_size, 1))\n",
        "        #                   }\n",
        "        self.parameters = {'Waa' : torch.randn((hidden_size, hidden_size))*0.01,\n",
        "                           'Wax' : torch.randn((hidden_size, input_size))*0.01 ,\n",
        "                           'Wya' : torch.randn((output_size, hidden_size))*0.01,\n",
        "                           'ba'  : torch.zeros((hidden_size, 1)),\n",
        "                           'by'  : torch.zeros((output_size, 1))\n",
        "                          }\n",
        "        for i in self.parameters.keys():\n",
        "            self.parameters[i] = self.parameters[i].to(device)\n",
        "         \n",
        "    def forward(self, X):\n",
        "        self.a_list = [torch.zeros(self.hidden_size, X.shape[1]).to(device)]   # a_list stores output of every activation function\n",
        "        self.a_out = [torch.zeros(self.output_size, X.shape[1]).to(device)]    # a_out stores output of final activation function\n",
        "        a_prev = torch.randn(self.hidden_size, X.shape[1]).to(device)\n",
        "        self.X = X.to(device)\n",
        "        self.ts = X.shape[-1]\n",
        "        for t in range(self.ts):\n",
        "            xt = X[:, :, t]\n",
        "            a_prev = torch.tanh(torch.matmul(self.parameters['Waa'], a_prev) + \n",
        "                                torch.matmul(self.parameters['Wax'], xt) + self.parameters['ba'])\n",
        "            self.a_list.append(a_prev)\n",
        "        a_Out = torch.matmul(self.parameters['Wya'], a_prev) + self.parameters['by']\n",
        "        y_pred = sigmoid(a_Out)\n",
        "        self.a_out.append(a_Out)\n",
        "        self.Y = y_pred\n",
        "        return self.Y\n",
        "    \n",
        "    def getY(self):\n",
        "        return self.Y\n",
        "    \n",
        "    def getHidden(self):\n",
        "        return self.hidden_size, self.batch_size\n",
        "    \n",
        "    def normalize(self):\n",
        "        # Normalize into uniform distribution\n",
        "        for i, j in self.parameters.items():\n",
        "            self.parameters[i] = (j - j.mean(dim = -1, keepdim = True))/j.std(dim = -1, keepdim = True)\n",
        "    def normalise(self):\n",
        "        for i, j in self.parameters.items():\n",
        "            self.parameters[i] = j.normal_()\n",
        "    def normalize_tensor(self, l):\n",
        "        return (l - l.mean(dim = -1, keepdim = True))/l.std(dim = -1, keepdim = True)\n",
        "\n",
        "    def clip(self, l):\n",
        "      # To avoid exploding gradient descent, its value is clipped to a range\n",
        "      clamped = []\n",
        "      for i in range(len(l)):\n",
        "        clamped.append(torch.clamp(l[i], min = -0.5, max = 0.5))\n",
        "      return clamped\n",
        "            \n",
        "                                \n",
        "    def backward(self, y, lr=0.001, lmbda = 1.0e-2):\n",
        "        bs = y.shape[-1]\n",
        "        da = self.a_list[0].to(device)\n",
        "        dx = torch.zeros(self.X.shape).to(device)\n",
        "        dWax = torch.zeros((self.parameters['Wax'].shape)).to(device)\n",
        "        dWaa = torch.zeros((self.parameters['Waa'].shape)).to(device)\n",
        "        dba = torch.zeros((self.parameters['ba'].shape)).to(device)\n",
        "        dWya = torch.zeros((self.parameters['Wya'].shape)).to(device)\n",
        "        dby = torch.zeros((self.parameters['by'].shape)).to(device)\n",
        "        \n",
        "        # Cost function\n",
        "        losses = torch.sum(-1.0 * (y.mm(torch.log(self.Y.t()))))\n",
        "\n",
        "        # Calculating gradients\n",
        "        cost = (self.Y - y)\n",
        "        dWya += torch.mm(cost, self.a_out[-1].t())\n",
        "        dby += torch.sum(cost, axis = 1, keepdims=True)\n",
        "        da += torch.mm(self.parameters['Wya'].t(), cost)\n",
        "\n",
        "        ts = self.ts\n",
        "        if ts < 1:\n",
        "          return 0\n",
        "        for t in reversed(range(ts)):\n",
        "            xt = self.X[:, :, t]\n",
        "            dz = da * (1 - (self.a_list[t])**2).to(device)\n",
        "            dxt = torch.mm(self.parameters['Wax'].t(), dz)\n",
        "            dx[:, :, t] = dxt\n",
        "            dWax += torch.mm(dz, xt.t())\n",
        "            da = torch.mm(self.parameters['Waa'].t(), dz)\n",
        "            dWaa += torch.mm(dz, self.a_list[t-1].t())\n",
        "            dba += torch.sum(dz, axis = 1, keepdims=True)\n",
        "            \n",
        "\n",
        "        (dWax, dWya, dWaa, dba, dby) = self.clip([dWax/ts, dWya/ts, dWaa/ts, dba/ts, dby/ts])\n",
        "        # self.parameters['Wax'] = (1-lr*(lmbda/bs*ts))*self.parameters['Wax']-lr*dWax\n",
        "        # self.parameters['Wya'] = (1-lr*(lmbda/bs*ts))*self.parameters['Wya']-lr*dWya\n",
        "        # self.parameters['Waa'] = (1-lr*(lmbda/bs*ts))*self.parameters['Waa']-lr*dWaa\n",
        "        # self.parameters['ba']  -= lr*dba/self.ts\n",
        "        # self.parameters['by']  -= lr*dby/self.ts\n",
        "        self.parameters['Wax'] -= lr*dWax\n",
        "        self.parameters['Wya'] -= lr*dWya\n",
        "        self.parameters['Waa'] -= lr*dWaa\n",
        "        self.parameters['ba']  -= lr*dba\n",
        "        self.parameters['by']  -= lr*dby\n",
        "        return losses"
      ],
      "execution_count": 0,
      "outputs": []
    },
    {
      "cell_type": "code",
      "metadata": {
        "colab_type": "code",
        "id": "bV-nSFDXOTi3",
        "colab": {
          "base_uri": "https://localhost:8080/",
          "height": 279
        },
        "outputId": "419eee40-9a06-4ccc-ca98-b1b4ceeb8443"
      },
      "source": [
        "# Dimension of word vector is 50, from GLOVE\n",
        "# Treated each review as a batch\n",
        "sentiment_glove = RNN(input_size = 100, hidden_size = 256, output_size = 1, batch_size = 1)"
      ],
      "execution_count": 20,
      "outputs": [
        {
          "output_type": "error",
          "ename": "NameError",
          "evalue": "ignored",
          "traceback": [
            "\u001b[0;31m---------------------------------------------------------------------------\u001b[0m",
            "\u001b[0;31mNameError\u001b[0m                                 Traceback (most recent call last)",
            "\u001b[0;32m<ipython-input-20-86726161db79>\u001b[0m in \u001b[0;36m<module>\u001b[0;34m()\u001b[0m\n\u001b[0;32m----> 1\u001b[0;31m \u001b[0msentiment_glove\u001b[0m \u001b[0;34m=\u001b[0m \u001b[0mRNN\u001b[0m\u001b[0;34m(\u001b[0m\u001b[0minput_size\u001b[0m \u001b[0;34m=\u001b[0m \u001b[0;36m100\u001b[0m\u001b[0;34m,\u001b[0m \u001b[0mhidden_size\u001b[0m \u001b[0;34m=\u001b[0m \u001b[0;36m256\u001b[0m\u001b[0;34m,\u001b[0m \u001b[0moutput_size\u001b[0m \u001b[0;34m=\u001b[0m \u001b[0;36m1\u001b[0m\u001b[0;34m,\u001b[0m \u001b[0mbatch_size\u001b[0m \u001b[0;34m=\u001b[0m \u001b[0;36m1\u001b[0m\u001b[0;34m)\u001b[0m\u001b[0;34m\u001b[0m\u001b[0;34m\u001b[0m\u001b[0m\n\u001b[0m",
            "\u001b[0;32m<ipython-input-19-b20090586bef>\u001b[0m in \u001b[0;36m__init__\u001b[0;34m(self, input_size, hidden_size, output_size, batch_size)\u001b[0m\n\u001b[1;32m     19\u001b[0m                           }\n\u001b[1;32m     20\u001b[0m         \u001b[0;32mfor\u001b[0m \u001b[0mi\u001b[0m \u001b[0;32min\u001b[0m \u001b[0mself\u001b[0m\u001b[0;34m.\u001b[0m\u001b[0mparameters\u001b[0m\u001b[0;34m.\u001b[0m\u001b[0mkeys\u001b[0m\u001b[0;34m(\u001b[0m\u001b[0;34m)\u001b[0m\u001b[0;34m:\u001b[0m\u001b[0;34m\u001b[0m\u001b[0;34m\u001b[0m\u001b[0m\n\u001b[0;32m---> 21\u001b[0;31m             \u001b[0mself\u001b[0m\u001b[0;34m.\u001b[0m\u001b[0mparameters\u001b[0m\u001b[0;34m[\u001b[0m\u001b[0mi\u001b[0m\u001b[0;34m]\u001b[0m \u001b[0;34m=\u001b[0m \u001b[0mself\u001b[0m\u001b[0;34m.\u001b[0m\u001b[0mparameters\u001b[0m\u001b[0;34m[\u001b[0m\u001b[0mi\u001b[0m\u001b[0;34m]\u001b[0m\u001b[0;34m.\u001b[0m\u001b[0mto\u001b[0m\u001b[0;34m(\u001b[0m\u001b[0mdevice\u001b[0m\u001b[0;34m)\u001b[0m\u001b[0;34m\u001b[0m\u001b[0;34m\u001b[0m\u001b[0m\n\u001b[0m\u001b[1;32m     22\u001b[0m \u001b[0;34m\u001b[0m\u001b[0m\n\u001b[1;32m     23\u001b[0m     \u001b[0;32mdef\u001b[0m \u001b[0mforward\u001b[0m\u001b[0;34m(\u001b[0m\u001b[0mself\u001b[0m\u001b[0;34m,\u001b[0m \u001b[0mX\u001b[0m\u001b[0;34m)\u001b[0m\u001b[0;34m:\u001b[0m\u001b[0;34m\u001b[0m\u001b[0;34m\u001b[0m\u001b[0m\n",
            "\u001b[0;31mNameError\u001b[0m: name 'device' is not defined"
          ]
        }
      ]
    },
    {
      "cell_type": "code",
      "metadata": {
        "id": "wWXHHqobeLie",
        "colab_type": "code",
        "colab": {}
      },
      "source": [
        "# sentiment_glove.parameters"
      ],
      "execution_count": 0,
      "outputs": []
    },
    {
      "cell_type": "code",
      "metadata": {
        "colab_type": "code",
        "outputId": "274e899c-a659-40cb-9b78-366f5f6bd565",
        "id": "_WZBZwNfeL0P",
        "colab": {
          "base_uri": "https://localhost:8080/",
          "height": 346
        }
      },
      "source": [
        "\"\"\"Training LSTM on data containing variable batch size each having same number of words, used GLOVE as word vector\"\"\"\n",
        "for epoch in range(20):\n",
        "  total_cost = 0\n",
        "  acc = 0\n",
        "  sz = 0\n",
        "  for i in batches:\n",
        "    sz += i[1].shape[-1]\n",
        "    pred = sentiment_glove.forward(i[0].to(device))\n",
        "    acc += torch.sum(pred.round() == i[1].to(device).round())\n",
        "    total_cost += sentiment_glove.backward(i[1].to(device), lr=0.001)\n",
        "  print(epoch, total_cost, acc.item()/sz)"
      ],
      "execution_count": 0,
      "outputs": [
        {
          "output_type": "error",
          "ename": "KeyboardInterrupt",
          "evalue": "ignored",
          "traceback": [
            "\u001b[0;31m---------------------------------------------------------------------------\u001b[0m",
            "\u001b[0;31mKeyboardInterrupt\u001b[0m                         Traceback (most recent call last)",
            "\u001b[0;32m<ipython-input-108-880fd44733d2>\u001b[0m in \u001b[0;36m<module>\u001b[0;34m()\u001b[0m\n\u001b[1;32m      6\u001b[0m   \u001b[0;32mfor\u001b[0m \u001b[0mi\u001b[0m \u001b[0;32min\u001b[0m \u001b[0mbatches\u001b[0m\u001b[0;34m:\u001b[0m\u001b[0;34m\u001b[0m\u001b[0;34m\u001b[0m\u001b[0m\n\u001b[1;32m      7\u001b[0m     \u001b[0msz\u001b[0m \u001b[0;34m+=\u001b[0m \u001b[0mi\u001b[0m\u001b[0;34m[\u001b[0m\u001b[0;36m1\u001b[0m\u001b[0;34m]\u001b[0m\u001b[0;34m.\u001b[0m\u001b[0mshape\u001b[0m\u001b[0;34m[\u001b[0m\u001b[0;34m-\u001b[0m\u001b[0;36m1\u001b[0m\u001b[0;34m]\u001b[0m\u001b[0;34m\u001b[0m\u001b[0;34m\u001b[0m\u001b[0m\n\u001b[0;32m----> 8\u001b[0;31m     \u001b[0mpred\u001b[0m \u001b[0;34m=\u001b[0m \u001b[0msentiment_glove\u001b[0m\u001b[0;34m.\u001b[0m\u001b[0mforward\u001b[0m\u001b[0;34m(\u001b[0m\u001b[0mi\u001b[0m\u001b[0;34m[\u001b[0m\u001b[0;36m0\u001b[0m\u001b[0;34m]\u001b[0m\u001b[0;34m.\u001b[0m\u001b[0mto\u001b[0m\u001b[0;34m(\u001b[0m\u001b[0mdevice\u001b[0m\u001b[0;34m)\u001b[0m\u001b[0;34m)\u001b[0m\u001b[0;34m\u001b[0m\u001b[0;34m\u001b[0m\u001b[0m\n\u001b[0m\u001b[1;32m      9\u001b[0m     \u001b[0macc\u001b[0m \u001b[0;34m+=\u001b[0m \u001b[0mtorch\u001b[0m\u001b[0;34m.\u001b[0m\u001b[0msum\u001b[0m\u001b[0;34m(\u001b[0m\u001b[0mpred\u001b[0m\u001b[0;34m.\u001b[0m\u001b[0mround\u001b[0m\u001b[0;34m(\u001b[0m\u001b[0;34m)\u001b[0m \u001b[0;34m==\u001b[0m \u001b[0mi\u001b[0m\u001b[0;34m[\u001b[0m\u001b[0;36m1\u001b[0m\u001b[0;34m]\u001b[0m\u001b[0;34m.\u001b[0m\u001b[0mto\u001b[0m\u001b[0;34m(\u001b[0m\u001b[0mdevice\u001b[0m\u001b[0;34m)\u001b[0m\u001b[0;34m.\u001b[0m\u001b[0mround\u001b[0m\u001b[0;34m(\u001b[0m\u001b[0;34m)\u001b[0m\u001b[0;34m)\u001b[0m\u001b[0;34m\u001b[0m\u001b[0;34m\u001b[0m\u001b[0m\n\u001b[1;32m     10\u001b[0m     \u001b[0mtotal_cost\u001b[0m \u001b[0;34m+=\u001b[0m \u001b[0msentiment_glove\u001b[0m\u001b[0;34m.\u001b[0m\u001b[0mbackward\u001b[0m\u001b[0;34m(\u001b[0m\u001b[0mi\u001b[0m\u001b[0;34m[\u001b[0m\u001b[0;36m1\u001b[0m\u001b[0;34m]\u001b[0m\u001b[0;34m.\u001b[0m\u001b[0mto\u001b[0m\u001b[0;34m(\u001b[0m\u001b[0mdevice\u001b[0m\u001b[0;34m)\u001b[0m\u001b[0;34m,\u001b[0m \u001b[0mlr\u001b[0m\u001b[0;34m=\u001b[0m\u001b[0;36m0.001\u001b[0m\u001b[0;34m)\u001b[0m\u001b[0;34m\u001b[0m\u001b[0;34m\u001b[0m\u001b[0m\n",
            "\u001b[0;32m<ipython-input-93-b20090586bef>\u001b[0m in \u001b[0;36mforward\u001b[0;34m(self, X)\u001b[0m\n\u001b[1;32m     30\u001b[0m             \u001b[0mxt\u001b[0m \u001b[0;34m=\u001b[0m \u001b[0mX\u001b[0m\u001b[0;34m[\u001b[0m\u001b[0;34m:\u001b[0m\u001b[0;34m,\u001b[0m \u001b[0;34m:\u001b[0m\u001b[0;34m,\u001b[0m \u001b[0mt\u001b[0m\u001b[0;34m]\u001b[0m\u001b[0;34m\u001b[0m\u001b[0;34m\u001b[0m\u001b[0m\n\u001b[1;32m     31\u001b[0m             a_prev = torch.tanh(torch.matmul(self.parameters['Waa'], a_prev) + \n\u001b[0;32m---> 32\u001b[0;31m                                 torch.matmul(self.parameters['Wax'], xt) + self.parameters['ba'])\n\u001b[0m\u001b[1;32m     33\u001b[0m             \u001b[0mself\u001b[0m\u001b[0;34m.\u001b[0m\u001b[0ma_list\u001b[0m\u001b[0;34m.\u001b[0m\u001b[0mappend\u001b[0m\u001b[0;34m(\u001b[0m\u001b[0ma_prev\u001b[0m\u001b[0;34m)\u001b[0m\u001b[0;34m\u001b[0m\u001b[0;34m\u001b[0m\u001b[0m\n\u001b[1;32m     34\u001b[0m         \u001b[0ma_Out\u001b[0m \u001b[0;34m=\u001b[0m \u001b[0mtorch\u001b[0m\u001b[0;34m.\u001b[0m\u001b[0mmatmul\u001b[0m\u001b[0;34m(\u001b[0m\u001b[0mself\u001b[0m\u001b[0;34m.\u001b[0m\u001b[0mparameters\u001b[0m\u001b[0;34m[\u001b[0m\u001b[0;34m'Wya'\u001b[0m\u001b[0;34m]\u001b[0m\u001b[0;34m,\u001b[0m \u001b[0ma_prev\u001b[0m\u001b[0;34m)\u001b[0m \u001b[0;34m+\u001b[0m \u001b[0mself\u001b[0m\u001b[0;34m.\u001b[0m\u001b[0mparameters\u001b[0m\u001b[0;34m[\u001b[0m\u001b[0;34m'by'\u001b[0m\u001b[0;34m]\u001b[0m\u001b[0;34m\u001b[0m\u001b[0;34m\u001b[0m\u001b[0m\n",
            "\u001b[0;31mKeyboardInterrupt\u001b[0m: "
          ]
        }
      ]
    },
    {
      "cell_type": "code",
      "metadata": {
        "colab_type": "code",
        "outputId": "c54a93cd-3380-44db-d2ee-59a152e7f1d8",
        "id": "VzKK0udVOTi9",
        "colab": {
          "base_uri": "https://localhost:8080/",
          "height": 185
        }
      },
      "source": [
        "# Training over first 1000 samples, used Glove as word vector\n",
        "for epoch in range(100):\n",
        "  total_cost = 0\n",
        "  acc = 0\n",
        "  for i,j in samples_we[:1000]:\n",
        "    pred = sentiment_glove.forward(i)\n",
        "    acc += (pred.round() == j.round())\n",
        "    total_cost += sentiment_glove.backward(j, lr=1e-3)\n",
        "  print(epoch, total_cost, acc.item()/10)"
      ],
      "execution_count": 0,
      "outputs": [
        {
          "output_type": "stream",
          "text": [
            "0 tensor(381.8438) 52.4\n",
            "1 tensor(381.6916) 51.3\n",
            "2 tensor(381.5406) 50.9\n",
            "3 tensor(381.3897) 51.3\n",
            "4 tensor(381.2391) 52.4\n",
            "5 tensor(381.0887) 50.8\n",
            "6 tensor(380.9391) 49.4\n",
            "7 tensor(380.7888) 49.7\n",
            "8 tensor(380.6401) 49.0\n",
            "9 tensor(380.4915) 48.6\n"
          ],
          "name": "stdout"
        }
      ]
    },
    {
      "cell_type": "code",
      "metadata": {
        "id": "a-NxQ8UPwlYM",
        "colab_type": "code",
        "colab": {}
      },
      "source": [
        "\"\"\" Collecting train dataset\"\"\"\n",
        "test_filepath = ['/test/pos/', 'test/neg/']\n",
        "test_we = []"
      ],
      "execution_count": 0,
      "outputs": []
    },
    {
      "cell_type": "code",
      "metadata": {
        "id": "UM5k531bUIOY",
        "colab_type": "code",
        "colab": {}
      },
      "source": [
        "for directory in test_filepath:\n",
        "    for index, file in enumerate(os.listdir(path + directory)):\n",
        "        with open(path + directory + file, 'r') as f:\n",
        "            text = f.read().strip('\\n').lower()\n",
        "            words = re.findall('[a-z]+', text)\n",
        "            weights = []\n",
        "            for word in words:\n",
        "              if word_to_index.get(word):\n",
        "                weights.append(word_to_vec_map[word])\n",
        "              else:\n",
        "                weights.append(word_to_vec_map['unk'])\n",
        "            weights = torch.stack(weights, dim=1) \n",
        "            weights = weights.view(50,1,-1)\n",
        "            match = re.search('_[0-9]+', file)\n",
        "            Y = 0.1 * int(match.group()[1:])\n",
        "            Y = torch.FloatTensor([Y])\n",
        "            Y = Y.view(1,1)\n",
        "            test_we.append((weights, Y))"
      ],
      "execution_count": 0,
      "outputs": []
    },
    {
      "cell_type": "code",
      "metadata": {
        "id": "Aj4B26yyUXMU",
        "colab_type": "code",
        "outputId": "5b8f1786-ec8d-4cba-85f4-c569bd66a7a0",
        "colab": {
          "base_uri": "https://localhost:8080/",
          "height": 34
        }
      },
      "source": [
        "# Evaluation\n",
        "total_cost = 0\n",
        "acc = 0\n",
        "for i,j in test_we:\n",
        "  pred = sentiment_glove.forward(i)\n",
        "  acc += (pred.round() == j.round())\n",
        "  # total_cost += sentiment_glove.backward(j, lr=0.001)\n",
        "print(acc.item()/len(test_we)*100)"
      ],
      "execution_count": 0,
      "outputs": [
        {
          "output_type": "stream",
          "text": [
            "49.94\n"
          ],
          "name": "stdout"
        }
      ]
    },
    {
      "cell_type": "markdown",
      "metadata": {
        "id": "xssItmVQcWek",
        "colab_type": "text"
      },
      "source": [
        "Batch size = 1, does not produced expected result. \\\n",
        "As sentences have variable length, could not group together into same batch. \\\n",
        "Sentences of same length is onsidered as same batch\n"
      ]
    },
    {
      "cell_type": "code",
      "metadata": {
        "id": "KUxIoXT1YNcE",
        "colab_type": "code",
        "colab": {}
      },
      "source": [
        "# Sorted word embeddings list based on number of words in sample.\n",
        "# Samples containing same number of words are choosen as same batch\n",
        "batches = []\n",
        "samples_we.sort(key= lambda s: s[0].size(-1)) \n",
        "x = [samples_we[0][0]]\n",
        "y = [samples_we[0][1]]\n",
        "for i in range(1, len(samples_we)):\n",
        "  if samples_we[i][0].size(-1) == samples_we[i-1][0].size(-1):\n",
        "    x.append(samples_we[i][0])\n",
        "    y.append(samples_we[i][1])\n",
        "  else:\n",
        "    x = torch.stack(x, dim = 2)\n",
        "    x = x.view(100, x.shape[2], -1)\n",
        "    y = torch.stack(y, dim = 2)\n",
        "    y = y.view(1, y.shape[2])\n",
        "    batches.append((x,y))\n",
        "    x = [samples_we[i][0]]\n",
        "    y = [samples_we[i][1]]\n",
        "x = torch.stack(x, dim = 2)\n",
        "x = x.view(100, x.shape[2], -1)\n",
        "y = torch.stack(y, dim = 2)\n",
        "y = y.view(1, y.shape[2])\n",
        "batches.append((x,y))"
      ],
      "execution_count": 0,
      "outputs": []
    },
    {
      "cell_type": "code",
      "metadata": {
        "id": "g0IY9kJdaTRT",
        "colab_type": "code",
        "outputId": "a3419089-9fcd-45f5-cd2f-6dede5a9c9b4",
        "colab": {
          "base_uri": "https://localhost:8080/",
          "height": 34
        }
      },
      "source": [
        "batches[-1][0].shape  # (dimension of word vector, batch size, number of words in batch)"
      ],
      "execution_count": 26,
      "outputs": [
        {
          "output_type": "execute_result",
          "data": {
            "text/plain": [
              "torch.Size([100, 1, 2504])"
            ]
          },
          "metadata": {
            "tags": []
          },
          "execution_count": 26
        }
      ]
    },
    {
      "cell_type": "code",
      "metadata": {
        "id": "8adX-xaMl8yw",
        "colab_type": "code",
        "outputId": "af420ce3-723e-4de2-a0d9-e228de95416c",
        "colab": {
          "base_uri": "https://localhost:8080/",
          "height": 34
        }
      },
      "source": [
        "batches[1][0].shape"
      ],
      "execution_count": 27,
      "outputs": [
        {
          "output_type": "execute_result",
          "data": {
            "text/plain": [
              "torch.Size([100, 2, 11])"
            ]
          },
          "metadata": {
            "tags": []
          },
          "execution_count": 27
        }
      ]
    },
    {
      "cell_type": "code",
      "metadata": {
        "id": "WlTK01Dkzum1",
        "colab_type": "code",
        "colab": {}
      },
      "source": [
        "len(batches)"
      ],
      "execution_count": 0,
      "outputs": []
    },
    {
      "cell_type": "code",
      "metadata": {
        "id": "Fo5VHNlhBqOV",
        "colab_type": "code",
        "colab": {}
      },
      "source": [
        "# Dimension of word vector is 50, from GLOVE\n",
        "sentiment_glove = RNN(input_size = 100, hidden_size = 256, output_size = 1, batch_size = 1)"
      ],
      "execution_count": 0,
      "outputs": []
    },
    {
      "cell_type": "code",
      "metadata": {
        "id": "lKckdmXWfJ08",
        "colab_type": "code",
        "outputId": "fc8d5886-e9af-41b9-ada8-a6f3844589de",
        "colab": {
          "base_uri": "https://localhost:8080/",
          "height": 330
        }
      },
      "source": [
        "\"\"\"Training on data containing variable batch size each having same number of words, used Glove as word vector\"\"\"\n",
        "for epoch in range(50):\n",
        "  total_cost = 0\n",
        "  acc = 0\n",
        "  sz = 0\n",
        "  for i in batches:\n",
        "    sz += i[1].shape[-1]\n",
        "    pred = sentiment_glove.forward(i[0])\n",
        "    acc += torch.sum(pred.round() == i[1].round())\n",
        "    total_cost += sentiment_glove.backward(i[1], lr=0.001)\n",
        "  print(epoch, total_cost, acc.item()/sz)"
      ],
      "execution_count": 0,
      "outputs": [
        {
          "output_type": "error",
          "ename": "KeyboardInterrupt",
          "evalue": "ignored",
          "traceback": [
            "\u001b[0;31m---------------------------------------------------------------------------\u001b[0m",
            "\u001b[0;31mKeyboardInterrupt\u001b[0m                         Traceback (most recent call last)",
            "\u001b[0;32m<ipython-input-75-e039fe28d7be>\u001b[0m in \u001b[0;36m<module>\u001b[0;34m()\u001b[0m\n\u001b[1;32m      8\u001b[0m     \u001b[0mpred\u001b[0m \u001b[0;34m=\u001b[0m \u001b[0msentiment_glove\u001b[0m\u001b[0;34m.\u001b[0m\u001b[0mforward\u001b[0m\u001b[0;34m(\u001b[0m\u001b[0mi\u001b[0m\u001b[0;34m[\u001b[0m\u001b[0;36m0\u001b[0m\u001b[0;34m]\u001b[0m\u001b[0;34m)\u001b[0m\u001b[0;34m\u001b[0m\u001b[0;34m\u001b[0m\u001b[0m\n\u001b[1;32m      9\u001b[0m     \u001b[0macc\u001b[0m \u001b[0;34m+=\u001b[0m \u001b[0mtorch\u001b[0m\u001b[0;34m.\u001b[0m\u001b[0msum\u001b[0m\u001b[0;34m(\u001b[0m\u001b[0mpred\u001b[0m\u001b[0;34m.\u001b[0m\u001b[0mround\u001b[0m\u001b[0;34m(\u001b[0m\u001b[0;34m)\u001b[0m \u001b[0;34m==\u001b[0m \u001b[0mi\u001b[0m\u001b[0;34m[\u001b[0m\u001b[0;36m1\u001b[0m\u001b[0;34m]\u001b[0m\u001b[0;34m.\u001b[0m\u001b[0mround\u001b[0m\u001b[0;34m(\u001b[0m\u001b[0;34m)\u001b[0m\u001b[0;34m)\u001b[0m\u001b[0;34m\u001b[0m\u001b[0;34m\u001b[0m\u001b[0m\n\u001b[0;32m---> 10\u001b[0;31m     \u001b[0mtotal_cost\u001b[0m \u001b[0;34m+=\u001b[0m \u001b[0msentiment_glove\u001b[0m\u001b[0;34m.\u001b[0m\u001b[0mbackward\u001b[0m\u001b[0;34m(\u001b[0m\u001b[0mi\u001b[0m\u001b[0;34m[\u001b[0m\u001b[0;36m1\u001b[0m\u001b[0;34m]\u001b[0m\u001b[0;34m,\u001b[0m \u001b[0mlr\u001b[0m\u001b[0;34m=\u001b[0m\u001b[0;36m0.001\u001b[0m\u001b[0;34m)\u001b[0m\u001b[0;34m\u001b[0m\u001b[0;34m\u001b[0m\u001b[0m\n\u001b[0m\u001b[1;32m     11\u001b[0m   \u001b[0mprint\u001b[0m\u001b[0;34m(\u001b[0m\u001b[0mepoch\u001b[0m\u001b[0;34m,\u001b[0m \u001b[0mtotal_cost\u001b[0m\u001b[0;34m,\u001b[0m \u001b[0macc\u001b[0m\u001b[0;34m.\u001b[0m\u001b[0mitem\u001b[0m\u001b[0;34m(\u001b[0m\u001b[0;34m)\u001b[0m\u001b[0;34m/\u001b[0m\u001b[0msz\u001b[0m\u001b[0;34m)\u001b[0m\u001b[0;34m\u001b[0m\u001b[0;34m\u001b[0m\u001b[0m\n",
            "\u001b[0;32m<ipython-input-71-c6b56653be16>\u001b[0m in \u001b[0;36mbackward\u001b[0;34m(self, y, lr, lmbda)\u001b[0m\n\u001b[1;32m     89\u001b[0m             \u001b[0mdWax\u001b[0m \u001b[0;34m+=\u001b[0m \u001b[0mtorch\u001b[0m\u001b[0;34m.\u001b[0m\u001b[0mmm\u001b[0m\u001b[0;34m(\u001b[0m\u001b[0mdz\u001b[0m\u001b[0;34m,\u001b[0m \u001b[0mxt\u001b[0m\u001b[0;34m.\u001b[0m\u001b[0mt\u001b[0m\u001b[0;34m(\u001b[0m\u001b[0;34m)\u001b[0m\u001b[0;34m)\u001b[0m\u001b[0;34m\u001b[0m\u001b[0;34m\u001b[0m\u001b[0m\n\u001b[1;32m     90\u001b[0m             \u001b[0mda\u001b[0m \u001b[0;34m=\u001b[0m \u001b[0mtorch\u001b[0m\u001b[0;34m.\u001b[0m\u001b[0mmm\u001b[0m\u001b[0;34m(\u001b[0m\u001b[0mself\u001b[0m\u001b[0;34m.\u001b[0m\u001b[0mparameters\u001b[0m\u001b[0;34m[\u001b[0m\u001b[0;34m'Waa'\u001b[0m\u001b[0;34m]\u001b[0m\u001b[0;34m.\u001b[0m\u001b[0mt\u001b[0m\u001b[0;34m(\u001b[0m\u001b[0;34m)\u001b[0m\u001b[0;34m,\u001b[0m \u001b[0mdz\u001b[0m\u001b[0;34m)\u001b[0m\u001b[0;34m\u001b[0m\u001b[0;34m\u001b[0m\u001b[0m\n\u001b[0;32m---> 91\u001b[0;31m             \u001b[0mdWaa\u001b[0m \u001b[0;34m+=\u001b[0m \u001b[0mtorch\u001b[0m\u001b[0;34m.\u001b[0m\u001b[0mmm\u001b[0m\u001b[0;34m(\u001b[0m\u001b[0mdz\u001b[0m\u001b[0;34m,\u001b[0m \u001b[0mself\u001b[0m\u001b[0;34m.\u001b[0m\u001b[0ma_list\u001b[0m\u001b[0;34m[\u001b[0m\u001b[0mt\u001b[0m\u001b[0;34m-\u001b[0m\u001b[0;36m1\u001b[0m\u001b[0;34m]\u001b[0m\u001b[0;34m.\u001b[0m\u001b[0mt\u001b[0m\u001b[0;34m(\u001b[0m\u001b[0;34m)\u001b[0m\u001b[0;34m)\u001b[0m\u001b[0;34m\u001b[0m\u001b[0;34m\u001b[0m\u001b[0m\n\u001b[0m\u001b[1;32m     92\u001b[0m             \u001b[0mdba\u001b[0m \u001b[0;34m+=\u001b[0m \u001b[0mtorch\u001b[0m\u001b[0;34m.\u001b[0m\u001b[0msum\u001b[0m\u001b[0;34m(\u001b[0m\u001b[0mdz\u001b[0m\u001b[0;34m,\u001b[0m \u001b[0maxis\u001b[0m \u001b[0;34m=\u001b[0m \u001b[0;36m1\u001b[0m\u001b[0;34m,\u001b[0m \u001b[0mkeepdims\u001b[0m\u001b[0;34m=\u001b[0m\u001b[0;32mTrue\u001b[0m\u001b[0;34m)\u001b[0m\u001b[0;34m\u001b[0m\u001b[0;34m\u001b[0m\u001b[0m\n\u001b[1;32m     93\u001b[0m \u001b[0;34m\u001b[0m\u001b[0m\n",
            "\u001b[0;31mKeyboardInterrupt\u001b[0m: "
          ]
        }
      ]
    },
    {
      "cell_type": "markdown",
      "metadata": {
        "id": "3LlhYhwydJY3",
        "colab_type": "text"
      },
      "source": [
        "Each review is too long, RNN does not perform well. \\\n",
        "Tried to implement LSTM,"
      ]
    },
    {
      "cell_type": "code",
      "metadata": {
        "id": "inf2OCN-QASz",
        "colab_type": "code",
        "colab": {}
      },
      "source": [
        "torch.randn??"
      ],
      "execution_count": 0,
      "outputs": []
    },
    {
      "cell_type": "code",
      "metadata": {
        "id": "dOUGb3euJ8hh",
        "colab_type": "code",
        "outputId": "09ea8c39-89f0-4b97-a920-a4cf73d9e1b1",
        "colab": {
          "base_uri": "https://localhost:8080/",
          "height": 34
        }
      },
      "source": [
        "device = torch.device(\"cuda:0\" if torch.cuda.is_available() else \"cpu\")\n",
        "print (device)"
      ],
      "execution_count": 24,
      "outputs": [
        {
          "output_type": "stream",
          "text": [
            "cuda:0\n"
          ],
          "name": "stdout"
        }
      ]
    },
    {
      "cell_type": "code",
      "metadata": {
        "id": "3ypS2_JkPxpS",
        "colab_type": "code",
        "colab": {}
      },
      "source": [
        "class lstmRNN(nn.Module): # LSTM\n",
        "    def __init__(self, input_size, hidden_size, output_size, batch_size):\n",
        "        self.input_size = input_size\n",
        "        self.hidden_size = hidden_size\n",
        "        self.output_size = output_size\n",
        "        self.batch_size = batch_size\n",
        "#         self.ts = ts  # time step\n",
        "        self.parameters = {'Wf' : torch.randn((hidden_size, input_size + hidden_size)),\n",
        "                           'Wi' : torch.randn((hidden_size, input_size + hidden_size)),\n",
        "                           'Wo' : torch.randn((hidden_size, input_size + hidden_size)),\n",
        "                           'Wc' : torch.randn((hidden_size, input_size + hidden_size)),\n",
        "                           'Wy' : torch.randn((output_size, hidden_size)),\n",
        "                           'bf' : torch.randn((hidden_size, 1)),\n",
        "                           'bi' : torch.randn((hidden_size, 1)),\n",
        "                           'bo' : torch.randn((hidden_size, 1)),\n",
        "                           'bc' : torch.randn((hidden_size, 1)),\n",
        "                           'by' : torch.randn((output_size,1))\n",
        "                          }\n",
        "        for i in self.parameters.keys():\n",
        "            self.parameters[i] = nn.init.xavier_uniform_(self.parameters[i]).to(device)\n",
        "\n",
        "         \n",
        "    def forward(self, X):\n",
        "        self.a = torch.zeros(self.hidden_size, X.shape[1], X.shape[-1]).to(device)\n",
        "        self.c = torch.zeros(self.hidden_size, X.shape[1], X.shape[-1]).to(device)\n",
        "        self.y = torch.zeros(self.output_size, X.shape[1], X.shape[-1]).to(device)\n",
        "        a_prev = torch.randn(self.hidden_size, X.shape[1]).to(device)\n",
        "        c_prev = torch.zeros(self.hidden_size, X.shape[1]).to(device)\n",
        "        self.X = X.to(device)\n",
        "        self.ts = X.shape[-1]\n",
        "        self.ft = []\n",
        "        self.it = []\n",
        "        self.ot = []\n",
        "        self.cct = []\n",
        "        for t in range(self.ts):\n",
        "            xt = X[:, :, t]\n",
        "            concat = torch.cat((a_prev, xt), dim = 0)\n",
        "            ft = sigmoid (torch.mm(self.parameters['Wf'], concat) + self.parameters['bf'])\n",
        "            it = sigmoid (torch.mm(self.parameters['Wi'], concat) + self.parameters['bi'])\n",
        "            cct = torch.tanh(torch.mm(self.parameters['Wc'], concat) + self.parameters['bc'])\n",
        "            c_prev = torch.mul(ft, c_prev) + torch.mul(it, cct)\n",
        "            ot = sigmoid (torch.mm(self.parameters['Wo'], concat) + self.parameters['bo'])\n",
        "            a_prev = torch.mul(ot, torch.tanh(c_prev))\n",
        "            self.a[:,:,t] = a_prev\n",
        "            self.c[:,:,t] = c_prev\n",
        "            self.ft.append(ft)\n",
        "            self.it.append(it)\n",
        "            self.ot.append(ot)\n",
        "            self.cct.append(cct)\n",
        "        self.a_out = torch.matmul(self.parameters['Wy'], a_prev) + self.parameters['by'].to(device)\n",
        "        y_pred = sigmoid(self.a_out)\n",
        "        self.Y = y_pred\n",
        "        return self.Y\n",
        "    \n",
        "    \n",
        "    def normalize(self):\n",
        "        # Normalize into standard distribution\n",
        "        for i, j in self.parameters.items():\n",
        "          if j.shape[1] > 1:\n",
        "            self.parameters[i] = (j - j.mean(dim = 1, keepdim = True))/j.std(dim = 1, keepdim = True)\n",
        "\n",
        "    def clip(self, grad):\n",
        "        for i in grad.keys():\n",
        "          grad[i] = torch.clamp(grad[i], -0.5, 0.5, out = grad[i])\n",
        "        return grad\n",
        "\n",
        "    def update_parameters(self, gradients, ts, lr = 0.0001):\n",
        "        for i, j in self.parameters.items():\n",
        "            self.parameters[i] -= lr * gradients['d' + i]\n",
        "\n",
        "\n",
        "    def squared_sum(self):\n",
        "      total = 0\n",
        "      for i in self.parameters.keys():\n",
        "        total += torch.sum((self.parameters[i])**2)\n",
        "      return total\n",
        "                                    \n",
        "    def backward1(self, y, lr=0.0001, lmbda = 1.0e-2):\n",
        "        \n",
        "        grad = {}\n",
        "        grad['dWf'] = torch.zeros((self.parameters['Wf'].shape)).to(device)\n",
        "        grad['dWi'] = torch.zeros((self.parameters['Wi'].shape)).to(device)\n",
        "        grad['dWo'] = torch.zeros((self.parameters['Wo'].shape)).to(device)\n",
        "        grad['dWc'] = torch.zeros((self.parameters['Wc'].shape)).to(device)\n",
        "        grad['dWy'] = torch.zeros((self.parameters['Wy'].shape)).to(device)\n",
        "        grad['dbf'] = torch.zeros((self.parameters['bf'].shape)).to(device)\n",
        "        grad['dbi'] = torch.zeros((self.parameters['bi'].shape)).to(device)\n",
        "        grad['dbo'] = torch.zeros((self.parameters['bo'].shape)).to(device)\n",
        "        grad['dbc'] = torch.zeros((self.parameters['bc'].shape)).to(device)\n",
        "        grad['dby'] = torch.zeros((self.parameters['by'].shape)).to(device)\n",
        "        \n",
        "        \n",
        "        \n",
        "        bs = y.shape[-1]\n",
        "        ts = self.ts\n",
        "        da = torch.zeros(self.hidden_size, bs).to(device)\n",
        "        dc = torch.zeros(self.hidden_size, bs).to(device) \n",
        "        cost = (self.Y - y) \n",
        "        cost += (1/bs*lmbda/2)*squared_sum()\n",
        "        \n",
        "        grad['dWy'] += (lmbda/bs)*torch.mm(cost, self.a_out.t())\n",
        "        grad['dby'] += (1/bs)*torch.sum(cost, axis = 1, keepdims=True)\n",
        "        \n",
        "        da += torch.mm(self.parameters['Wy'].t(), cost)\n",
        "        losses = torch.sum(-1.0 * (y * (torch.log(self.Y))))\n",
        "        ot = self.ot\n",
        "        it = self.it\n",
        "        cct = self.cct\n",
        "        ft = self.ft\n",
        "        a = self.a\n",
        "        c = self.c\n",
        "        if ts < 1:\n",
        "            return 0\n",
        "        for t in reversed(range(ts)):\n",
        "            xt = self.X[:, :, t]\n",
        "            \n",
        "#             print(da.shape, c[:,:,t].shape, ot[t].shape, ot[t-1].shape)\n",
        "            dot = da * (torch.tanh(c[:,:,t])) * ot[t] * (1 - ot[t])\n",
        "            temp = ot[t] * (1 - (torch.tanh(c[:,:,t])**2))\n",
        "            dcct = dc * it[t] + temp * it[t] * da * (1 - (cct[t]**2))\n",
        "            dit = dc * cct[t] + temp * cct[t] * da * (it[t] * (1 - it[t]))\n",
        "            dft = dc * c[:,:,t-1] + temp * c[:,:,t-1] * da * (ft[t] * (1 - ft[t]))\n",
        "            concat = torch.cat((a[:, :, t-1], xt), dim = 0)\n",
        "\n",
        "            grad['dWf'] += (lmbda/(bs*ts))*torch.mm(dft, concat.t())\n",
        "            grad['dWi'] += (lmbda/(bs*ts))*torch.mm(dit, concat.t())\n",
        "            grad['dWc'] += (lmbda/(bs*ts))*torch.mm(dcct, concat.t())\n",
        "            grad['dWo'] += (lmbda/(bs*ts))*torch.mm(dot, concat.t())\n",
        "            grad['dbf'] += (1/(bs*ts))*torch.sum(dft, axis = 1, keepdims=True)\n",
        "            grad['dbi'] += (1/(bs*ts))*torch.sum(dit, axis = 1, keepdims=True)\n",
        "            grad['dbc'] += (1/(bs*ts))*torch.sum(dcct, axis = 1, keepdims=True)\n",
        "            grad['dbo'] += (1/(bs*ts))*torch.sum(dot, axis = 1, keepdims=True)\n",
        "\n",
        "            da = torch.mm((self.parameters['Wf'][:, : self.hidden_size]).t(), dft) + torch.mm((self.parameters['Wi'][:, : self.hidden_size]).t(), dit) + torch.mm((self.parameters['Wc'][:, : self.hidden_size]).t(), dcct) + torch.mm((self.parameters['Wo'][:, : self.hidden_size]).t(), dot)\n",
        "            dc = dc * ft[t] + ot[t] * (1 - (torch.tanh(c[:,:,t])**2)) * da * ft[t]\n",
        "\n",
        "            \n",
        "        self.grad = self.clip(grad)\n",
        "        self.update_parameters(self.grad, ts, lr)\n",
        "        return losses"
      ],
      "execution_count": 0,
      "outputs": []
    },
    {
      "cell_type": "code",
      "metadata": {
        "colab_type": "code",
        "id": "vA9NZpJXrKQK",
        "colab": {}
      },
      "source": [
        "class lstmRNN(nn.Module): # LSTM\n",
        "    def __init__(self, input_size, hidden_size, output_size, batch_size):\n",
        "        self.input_size = input_size\n",
        "        self.hidden_size = hidden_size\n",
        "        self.output_size = output_size\n",
        "        self.batch_size = batch_size\n",
        "#         self.ts = ts  # time step\n",
        "        self.parameters = {'Wf' : torch.randn((hidden_size, input_size + hidden_size)),\n",
        "                           'Wi' : torch.randn((hidden_size, input_size + hidden_size)),\n",
        "                           'Wo' : torch.randn((hidden_size, input_size + hidden_size)),\n",
        "                           'Wc' : torch.randn((hidden_size, input_size + hidden_size)),\n",
        "                           'Wy' : torch.randn((output_size, hidden_size)),\n",
        "                           'bf' : torch.randn((hidden_size, 1)),\n",
        "                           'bi' : torch.randn((hidden_size, 1)),\n",
        "                           'bo' : torch.randn((hidden_size, 1)),\n",
        "                           'bc' : torch.randn((hidden_size, 1)),\n",
        "                           'by' : torch.randn((output_size,1))\n",
        "                          }\n",
        "        for i in self.parameters.keys():\n",
        "            self.parameters[i] = nn.init.xavier_uniform_(self.parameters[i]).to(device)\n",
        "\n",
        "         \n",
        "    def forward(self, X):\n",
        "        self.a = torch.zeros(self.hidden_size, X.shape[1], X.shape[-1]).to(device)\n",
        "        self.c = torch.zeros(self.hidden_size, X.shape[1], X.shape[-1]).to(device)\n",
        "        self.y = torch.zeros(self.output_size, X.shape[1], X.shape[-1]).to(device)\n",
        "        a_prev = torch.randn(self.hidden_size, X.shape[1]).to(device)\n",
        "        c_prev = torch.zeros(self.hidden_size, X.shape[1]).to(device)\n",
        "        self.X = X.to(device)\n",
        "        self.ts = X.shape[-1]\n",
        "        self.ft = []\n",
        "        self.it = []\n",
        "        self.ot = []\n",
        "        self.cct = []\n",
        "        for t in range(self.ts):\n",
        "            xt = X[:, :, t]\n",
        "            concat = torch.cat((a_prev, xt), dim = 0)\n",
        "            ft = sigmoid (torch.mm(self.parameters['Wf'], concat) + self.parameters['bf'])\n",
        "            it = sigmoid (torch.mm(self.parameters['Wi'], concat) + self.parameters['bi'])\n",
        "            cct = torch.tanh(torch.mm(self.parameters['Wc'], concat) + self.parameters['bc'])\n",
        "            c_prev = torch.mul(ft, c_prev) + torch.mul(it, cct)\n",
        "            ot = sigmoid (torch.mm(self.parameters['Wo'], concat) + self.parameters['bo'])\n",
        "            a_prev = torch.mul(ot, torch.tanh(c_prev))\n",
        "            self.a[:,:,t] = a_prev\n",
        "            self.c[:,:,t] = c_prev\n",
        "            self.ft.append(ft)\n",
        "            self.it.append(it)\n",
        "            self.ot.append(ot)\n",
        "            self.cct.append(cct)\n",
        "        self.a_out = torch.matmul(self.parameters['Wy'], a_prev) + self.parameters['by'].to(device)\n",
        "        y_pred = sigmoid(self.a_out)\n",
        "        self.Y = y_pred\n",
        "        return self.Y\n",
        "    \n",
        "    \n",
        "    def normalize(self):\n",
        "        # Normalize into standard distribution\n",
        "        for i, j in self.parameters.items():\n",
        "          if j.shape[1] > 1:\n",
        "            self.parameters[i] = (j - j.mean(dim = 1, keepdim = True))/j.std(dim = 1, keepdim = True)\n",
        "\n",
        "    def clip(self, grad):\n",
        "        for i in grad.keys():\n",
        "          grad[i] = torch.clamp(grad[i], -0.5, 0.5, out = grad[i])\n",
        "        return grad\n",
        "\n",
        "    def update_parameters(self, gradients, ts, lr = 0.0001):\n",
        "        for i, j in self.parameters.items():\n",
        "            self.parameters[i] -= lr * gradients['d' + i]\n",
        "                                    \n",
        "    def backward1(self, y, lr=0.0001, lmbda = 1.0e-2):\n",
        "        \n",
        "        grad = {}\n",
        "        grad['dWf'] = torch.zeros((self.parameters['Wf'].shape)).to(device)\n",
        "        grad['dWi'] = torch.zeros((self.parameters['Wi'].shape)).to(device)\n",
        "        grad['dWo'] = torch.zeros((self.parameters['Wo'].shape)).to(device)\n",
        "        grad['dWc'] = torch.zeros((self.parameters['Wc'].shape)).to(device)\n",
        "        grad['dWy'] = torch.zeros((self.parameters['Wy'].shape)).to(device)\n",
        "        grad['dbf'] = torch.zeros((self.parameters['bf'].shape)).to(device)\n",
        "        grad['dbi'] = torch.zeros((self.parameters['bi'].shape)).to(device)\n",
        "        grad['dbo'] = torch.zeros((self.parameters['bo'].shape)).to(device)\n",
        "        grad['dbc'] = torch.zeros((self.parameters['bc'].shape)).to(device)\n",
        "        grad['dby'] = torch.zeros((self.parameters['by'].shape)).to(device)\n",
        "        \n",
        "        \n",
        "        \n",
        "        bs = y.shape[-1]\n",
        "        ts = self.ts\n",
        "        da = torch.zeros(self.hidden_size, bs).to(device)\n",
        "        dc = torch.zeros(self.hidden_size, bs).to(device) \n",
        "        cost = (self.Y - y)\n",
        "        \n",
        "        grad['dWy'] += torch.mm(cost, self.a_out.t())\n",
        "        grad['dby'] += torch.sum(cost, axis = 1, keepdims=True)\n",
        "        \n",
        "        da += torch.mm(self.parameters['Wy'].t(), cost)\n",
        "        losses = torch.sum(-1.0 * (y * (torch.log(self.Y))))\n",
        "        ot = self.ot\n",
        "        it = self.it\n",
        "        cct = self.cct\n",
        "        ft = self.ft\n",
        "        a = self.a\n",
        "        c = self.c\n",
        "        if ts < 1:\n",
        "            return 0\n",
        "        for t in reversed(range(ts)):\n",
        "            xt = self.X[:, :, t]\n",
        "            \n",
        "#             print(da.shape, c[:,:,t].shape, ot[t].shape, ot[t-1].shape)\n",
        "            dot = da * (torch.tanh(c[:,:,t])) * ot[t] * (1 - ot[t])\n",
        "            temp = ot[t] * (1 - (torch.tanh(c[:,:,t])**2))\n",
        "            dcct = dc * it[t] + temp * it[t] * da * (1 - (cct[t]**2))\n",
        "            dit = dc * cct[t] + temp * cct[t] * da * (it[t] * (1 - it[t]))\n",
        "            dft = dc * c[:,:,t-1] + temp * c[:,:,t-1] * da * (ft[t] * (1 - ft[t]))\n",
        "            concat = torch.cat((a[:, :, t-1], xt), dim = 0)\n",
        "\n",
        "            grad['dWf'] += torch.mm(dft, concat.t())\n",
        "            grad['dWi'] += torch.mm(dit, concat.t())\n",
        "            grad['dWc'] += torch.mm(dcct, concat.t())\n",
        "            grad['dWo'] += torch.mm(dot, concat.t())\n",
        "            grad['dbf'] += torch.sum(dft, axis = 1, keepdims=True)\n",
        "            grad['dbi'] += torch.sum(dit, axis = 1, keepdims=True)\n",
        "            grad['dbc'] += torch.sum(dcct, axis = 1, keepdims=True)\n",
        "            grad['dbo'] += torch.sum(dot, axis = 1, keepdims=True)\n",
        "\n",
        "            da = torch.mm((self.parameters['Wf'][:, : self.hidden_size]).t(), dft) + torch.mm((self.parameters['Wi'][:, : self.hidden_size]).t(), dit) + torch.mm((self.parameters['Wc'][:, : self.hidden_size]).t(), dcct) + torch.mm((self.parameters['Wo'][:, : self.hidden_size]).t(), dot)\n",
        "            dc = dc * ft[t] + ot[t] * (1 - (torch.tanh(c[:,:,t])**2)) * da * ft[t]\n",
        "\n",
        "            \n",
        "        self.grad = self.clip(grad)\n",
        "        self.update_parameters(self.grad, ts, lr)\n",
        "        return losses"
      ],
      "execution_count": 0,
      "outputs": []
    },
    {
      "cell_type": "code",
      "metadata": {
        "colab_type": "code",
        "id": "L8ZkbWRnrfqD",
        "colab": {}
      },
      "source": [
        "# Dimension of word vector is 50, from GLOVE\n",
        "sentiment_glove = lstmRNN(input_size = 100, hidden_size = 256, output_size = 1, batch_size = 1)"
      ],
      "execution_count": 0,
      "outputs": []
    },
    {
      "cell_type": "code",
      "metadata": {
        "id": "28-1lKP5Iin5",
        "colab_type": "code",
        "colab": {}
      },
      "source": [
        "# sentiment_glove.to(device)"
      ],
      "execution_count": 0,
      "outputs": []
    },
    {
      "cell_type": "code",
      "metadata": {
        "colab_type": "code",
        "outputId": "9435886f-492a-4f12-c468-de87cd17db4d",
        "id": "vyQ0HAxIenXN",
        "colab": {
          "base_uri": "https://localhost:8080/",
          "height": 1000
        }
      },
      "source": [
        "\"\"\"Training LSTM on data containing variable batch size each having same number of words, used GLOVE as word vector\"\"\"\n",
        "for epoch in range(100):\n",
        "  total_cost = 0\n",
        "  acc = 0\n",
        "  sz = 0\n",
        "  for i in batches[:100]:\n",
        "    sz += i[1].shape[-1]\n",
        "    pred = sentiment_glove.forward(i[0].to(device))\n",
        "    acc += torch.sum(pred.round() == i[1].to(device).round())\n",
        "    total_cost += sentiment_glove.backward1(i[1].to(device), lr=0.001)\n",
        "  print(epoch, total_cost.item(), acc.item()/sz)"
      ],
      "execution_count": 84,
      "outputs": [
        {
          "output_type": "stream",
          "text": [
            "0 tensor(1180.6357, device='cuda:0') 0.5484318623369414\n",
            "1 tensor(1131.7408, device='cuda:0') 0.5481543158479045\n",
            "2 tensor(1124.3861, device='cuda:0') 0.549819594782126\n",
            "3 tensor(1118.4504, device='cuda:0') 0.5525950596724951\n",
            "4 tensor(1112.8575, device='cuda:0') 0.5575908964751596\n",
            "5 tensor(1107.3179, device='cuda:0') 0.5678601165695254\n",
            "6 tensor(1101.6173, device='cuda:0') 0.5767416042187067\n",
            "7 tensor(1095.5621, device='cuda:0') 0.5872883708021094\n",
            "8 tensor(1088.9807, device='cuda:0') 0.601165695253955\n",
            "9 tensor(1081.8254, device='cuda:0') 0.6161532056619484\n",
            "10 tensor(1074.1207, device='cuda:0') 0.6330835414932001\n",
            "11 tensor(1066.0494, device='cuda:0') 0.6419650291423813\n",
            "12 tensor(1057.6708, device='cuda:0') 0.6563974465723008\n",
            "13 tensor(1048.8762, device='cuda:0') 0.6666666666666666\n",
            "14 tensor(1039.1743, device='cuda:0') 0.6777685262281432\n",
            "15 tensor(1022.9374, device='cuda:0') 0.6783236192062171\n",
            "16 tensor(1031.8245, device='cuda:0') 0.6894254787676936\n",
            "17 tensor(1025.8173, device='cuda:0') 0.7002497918401333\n",
            "18 tensor(998.7055, device='cuda:0') 0.7080210935331668\n",
            "19 tensor(986.4958, device='cuda:0') 0.7177352206494588\n",
            "20 tensor(1003.8380, device='cuda:0') 0.7196780460727171\n",
            "21 tensor(1013.4182, device='cuda:0') 0.7124618373577575\n",
            "22 tensor(981.6071, device='cuda:0') 0.7255065223424924\n",
            "23 tensor(1000.8572, device='cuda:0') 0.7310574521232306\n",
            "24 tensor(963.6046, device='cuda:0') 0.7391063003053011\n",
            "25 tensor(961.9390, device='cuda:0') 0.7429919511518179\n",
            "26 tensor(975.0980, device='cuda:0') 0.7377185678601166\n",
            "27 tensor(966.2094, device='cuda:0') 0.7449347765750763\n",
            "28 tensor(921.2938, device='cuda:0') 0.7410491257285595\n",
            "29 tensor(927.5092, device='cuda:0') 0.74909797391063\n",
            "30 tensor(935.0815, device='cuda:0') 0.7535387177352206\n",
            "31 tensor(902.5493, device='cuda:0') 0.7441021371079656\n",
            "32 tensor(1062.6375, device='cuda:0') 0.7288370802109353\n",
            "33 tensor(910.1652, device='cuda:0') 0.7024701637524285\n",
            "34 tensor(981.4620, device='cuda:0') 0.6386344712739384\n",
            "35 tensor(1061.8179, device='cuda:0') 0.6455731334998612\n",
            "36 tensor(1057.0889, device='cuda:0') 0.6611157368859284\n",
            "37 tensor(1005.9665, device='cuda:0') 0.6769358867610324\n",
            "38 tensor(982.0783, device='cuda:0') 0.6952539550374688\n",
            "39 tensor(982.3394, device='cuda:0') 0.7019150707743547\n",
            "40 tensor(992.4180, device='cuda:0') 0.7255065223424924\n",
            "41 tensor(984.5565, device='cuda:0') 0.7368859283930058\n",
            "42 tensor(960.3163, device='cuda:0') 0.7441021371079656\n",
            "43 tensor(1023.3060, device='cuda:0') 0.7443796835970025\n",
            "44 tensor(1007.6162, device='cuda:0') 0.7538162642242575\n",
            "45 tensor(1048.7815, device='cuda:0') 0.7166250346933112\n",
            "46 tensor(1017.6489, device='cuda:0') 0.739661393283375\n",
            "47 tensor(913.2760, device='cuda:0') 0.7632528448515127\n",
            "48 tensor(874.4595, device='cuda:0') 0.7479877879544824\n",
            "49 tensor(820.3743, device='cuda:0') 0.7674160421870664\n",
            "50 tensor(786.6771, device='cuda:0') 0.7607549264501804\n",
            "51 tensor(828.8400, device='cuda:0') 0.7610324729392173\n",
            "52 tensor(1066.1704, device='cuda:0') 0.717180127671385\n",
            "53 tensor(910.0870, device='cuda:0') 0.6883152928115459\n",
            "54 tensor(879.8431, device='cuda:0') 0.6999722453510963\n",
            "55 tensor(1026.9928, device='cuda:0') 0.6516791562586733\n",
            "56 tensor(1054.6580, device='cuda:0') 0.6586178184845962\n",
            "57 tensor(1051.4752, device='cuda:0') 0.6616708298640023\n",
            "58 tensor(1049.0493, device='cuda:0') 0.6699972245351097\n",
            "59 tensor(1048.2498, device='cuda:0') 0.6802664446294754\n",
            "60 tensor(1037.7065, device='cuda:0') 0.6941437690813211\n",
            "61 tensor(1017.8505, device='cuda:0') 0.7391063003053011\n",
            "62 tensor(1009.2363, device='cuda:0') 0.7679711351651402\n",
            "63 tensor(1025.4613, device='cuda:0') 0.742436858173744\n",
            "64 tensor(1162.5874, device='cuda:0') 0.7113516514016097\n",
            "65 tensor(1065.8086, device='cuda:0') 0.6974743269497641\n",
            "66 tensor(1008.8811, device='cuda:0') 0.6805439911185124\n",
            "67 tensor(955.1219, device='cuda:0') 0.7157923952262004\n",
            "68 tensor(889.2215, device='cuda:0') 0.7196780460727171\n",
            "69 tensor(838.2283, device='cuda:0') 0.7132944768248681\n",
            "70 tensor(1249.5077, device='cuda:0') 0.7252289758534555\n",
            "71 tensor(1035.4919, device='cuda:0') 0.6766583402719956\n",
            "72 tensor(1011.7890, device='cuda:0') 0.643075215098529\n",
            "73 tensor(1060.8341, device='cuda:0') 0.6361365528726062\n",
            "74 tensor(1055.9323, device='cuda:0') 0.6627810158201499\n",
            "75 tensor(1374.3678, device='cuda:0') 0.6952539550374688\n",
            "76 tensor(1252.9031, device='cuda:0') 0.7371634748820427\n",
            "77 tensor(1385.7677, device='cuda:0') 0.7271718012767139\n",
            "78 tensor(1183.3333, device='cuda:0') 0.717180127671385\n",
            "79 tensor(929.5386, device='cuda:0') 0.6550097141271163\n",
            "80 tensor(928.8469, device='cuda:0') 0.6214265889536498\n",
            "81 tensor(989.4800, device='cuda:0') 0.610879822370247\n",
            "82 tensor(1446.5774, device='cuda:0') 0.6056064390785456\n",
            "83 tensor(1835.4264, device='cuda:0') 0.5500971412711629\n",
            "84 tensor(1703.8431, device='cuda:0') 0.5606439078545656\n",
            "85 tensor(1573.6544, device='cuda:0') 0.6155981126838745\n",
            "86 tensor(1665.6173, device='cuda:0') 0.5878434637801832\n",
            "87 tensor(1538.2419, device='cuda:0') 0.6150430197058008\n",
            "88 tensor(1455.9128, device='cuda:0') 0.6316958090480156\n",
            "89 tensor(1442.6655, device='cuda:0') 0.6433527615875659\n",
            "90 tensor(1405.8241, device='cuda:0') 0.6466833194560089\n",
            "91 tensor(1474.5276, device='cuda:0') 0.6250346933111296\n",
            "92 tensor(1279.4851, device='cuda:0') 0.6516791562586733\n",
            "93 tensor(1212.6287, device='cuda:0') 0.6511240632805995\n",
            "94 tensor(1301.5477, device='cuda:0') 0.6208714959755759\n",
            "95 tensor(1029.3529, device='cuda:0') 0.6411323896752706\n",
            "96 tensor(1001.2941, device='cuda:0') 0.646405772966972\n",
            "97 tensor(1302.7272, device='cuda:0') 0.6314182625589786\n",
            "98 tensor(1372.4484, device='cuda:0') 0.6638912017762976\n",
            "99 tensor(1793.3887, device='cuda:0') 0.5839578129336664\n"
          ],
          "name": "stdout"
        }
      ]
    },
    {
      "cell_type": "code",
      "metadata": {
        "id": "3sQoc_pL90Zg",
        "colab_type": "code",
        "colab": {}
      },
      "source": [
        "# Dimension of word vector is 50, from GLOVE\n",
        "sentiment_glove = lstmRNN(input_size = 100, hidden_size = 256, output_size = 1, batch_size = 1)"
      ],
      "execution_count": 0,
      "outputs": []
    },
    {
      "cell_type": "code",
      "metadata": {
        "id": "7TD_nIYY9vHW",
        "colab_type": "code",
        "colab": {
          "base_uri": "https://localhost:8080/",
          "height": 134
        },
        "outputId": "aebd2436-37af-48ce-9907-2f9ca1d1a0a1"
      },
      "source": [
        "\"\"\"Training LSTM on data containing variable batch size each having same number of words, used GLOVE as word vector\"\"\"\n",
        "for epoch in range(50):\n",
        "  total_cost = 0\n",
        "  acc = 0\n",
        "  sz = 0\n",
        "  for i in batches:\n",
        "    sz += i[1].shape[-1]\n",
        "    pred = sentiment_glove.forward(i[0].to(device))\n",
        "    acc += torch.sum(pred.round() == i[1].to(device).round())\n",
        "    total_cost += sentiment_glove.backward1(i[1].to(device), lr=0.001)\n",
        "  print(epoch, total_cost, acc.item()/sz)"
      ],
      "execution_count": 0,
      "outputs": [
        {
          "output_type": "stream",
          "text": [
            "0 tensor(8658.1494, device='cuda:0') 0.52204\n",
            "1 tensor(8198.2021, device='cuda:0') 0.56268\n",
            "2 tensor(7960.6187, device='cuda:0') 0.614\n",
            "3 tensor(7822.8477, device='cuda:0') 0.64908\n",
            "4 tensor(7739.2041, device='cuda:0') 0.6652\n",
            "5 tensor(7609.8638, device='cuda:0') 0.65632\n",
            "6 tensor(7276.5137, device='cuda:0') 0.66344\n"
          ],
          "name": "stdout"
        }
      ]
    },
    {
      "cell_type": "code",
      "metadata": {
        "id": "Cy9oHMYfFrb-",
        "colab_type": "code",
        "colab": {}
      },
      "source": [
        "\n"
      ],
      "execution_count": 0,
      "outputs": []
    },
    {
      "cell_type": "code",
      "metadata": {
        "id": "Xt9HBH7pFquq",
        "colab_type": "code",
        "colab": {}
      },
      "source": [
        ""
      ],
      "execution_count": 0,
      "outputs": []
    },
    {
      "cell_type": "markdown",
      "metadata": {
        "id": "4c9BsquCj-kv",
        "colab_type": "text"
      },
      "source": [
        "In the dataset, the sentiment of each word is given \\\n",
        "Sentiment of words are choosen as word vector of dimension 1."
      ]
    },
    {
      "cell_type": "code",
      "metadata": {
        "id": "9Np9kMUBbE-u",
        "colab_type": "code",
        "colab": {}
      },
      "source": [
        "!head aclImdb/imdb.vocab"
      ],
      "execution_count": 0,
      "outputs": []
    },
    {
      "cell_type": "code",
      "metadata": {
        "id": "HkUfTshXabHW",
        "colab_type": "code",
        "colab": {}
      },
      "source": [
        "!head aclImdb/imdbEr.txt"
      ],
      "execution_count": 0,
      "outputs": []
    },
    {
      "cell_type": "code",
      "metadata": {
        "id": "AyhwZ_-3MGyM",
        "colab_type": "code",
        "colab": {}
      },
      "source": [
        "word_idx = {} # storing index corresponding to words"
      ],
      "execution_count": 0,
      "outputs": []
    },
    {
      "cell_type": "code",
      "metadata": {
        "id": "BXfeAzdFMJSU",
        "colab_type": "code",
        "colab": {}
      },
      "source": [
        "# contains all distinct words\n",
        "with open(path + '/imdb.vocab', 'r') as f:  \n",
        "    out = f.readlines()\n",
        "    for i, word in enumerate(out):\n",
        "        word_idx[word.strip('\\n')] = i"
      ],
      "execution_count": 0,
      "outputs": []
    },
    {
      "cell_type": "code",
      "metadata": {
        "id": "jtT4N1g6MLI3",
        "colab_type": "code",
        "colab": {}
      },
      "source": [
        "idx_sent = {}"
      ],
      "execution_count": 0,
      "outputs": []
    },
    {
      "cell_type": "code",
      "metadata": {
        "id": "4w_Vy8INMORu",
        "colab_type": "code",
        "colab": {}
      },
      "source": [
        "# file contains sentiment of each corresponding word to vocab\n",
        "with open(path + '/imdbEr.txt', 'r') as f:   \n",
        "    out = f.readlines()\n",
        "    for i, word in enumerate(out):\n",
        "        idx_sent[i] = float(word.strip('\\n'))"
      ],
      "execution_count": 0,
      "outputs": []
    },
    {
      "cell_type": "code",
      "metadata": {
        "id": "7AmQs_Avn-cy",
        "colab_type": "code",
        "colab": {}
      },
      "source": [
        "# Storing word embeds of review and its corresponding sentiment.  size=(N,2) \n",
        "samples = [] "
      ],
      "execution_count": 0,
      "outputs": []
    },
    {
      "cell_type": "code",
      "metadata": {
        "id": "dnsOdqxANocW",
        "colab_type": "code",
        "colab": {}
      },
      "source": [
        "for directory in filepath:\n",
        "    for index, file in enumerate(os.listdir(path + directory)):\n",
        "        with open(path + directory + file, 'r') as f:\n",
        "            text = f.read().strip('\\n').lower()\n",
        "            words = re.findall('[a-z]+', text)  # selecting only alphabets from review\n",
        "            weights = []  # word embeds \n",
        "            for word in words:\n",
        "              if word_idx.get(word):\n",
        "                weights.append(idx_sent[word_idx[word]])\n",
        "              else:\n",
        "                weights.append(0.0)\n",
        "            weights = torch.FloatTensor(weights) \n",
        "            weights = weights.view(1,1,-1) # (input_size, batch_size, time_steps)\n",
        "            match = re.search('_[0-9]+', file)\n",
        "            Y = 0.1 * int(match.group()[1:])\n",
        "            Y = torch.FloatTensor([Y])\n",
        "            Y = Y.view(1,1)\n",
        "            samples.append((weights, Y)) # (word embeds, sentiment)"
      ],
      "execution_count": 0,
      "outputs": []
    },
    {
      "cell_type": "code",
      "metadata": {
        "colab_type": "code",
        "id": "NhqmKtwNMwpz",
        "colab": {}
      },
      "source": [
        "class RNN():\n",
        "    def __init__(self, input_size, hidden_size, output_size, batch_size):\n",
        "        self.input_size = input_size\n",
        "        self.hidden_size = hidden_size\n",
        "        self.output_size = output_size\n",
        "        self.batch_size = batch_size\n",
        "#         self.ts = ts  # time step\n",
        "        # self.parameters = {'Waa' : torch.randn((hidden_size, hidden_size))*math.sqrt(1/(hidden_size)),\n",
        "        #                    'Wax' : torch.randn((hidden_size, input_size))*math.sqrt(1/(hidden_size)),\n",
        "        #                    'Wya' : torch.randn((output_size, hidden_size))*math.sqrt(1/(output_size)),\n",
        "        #                    'ba'  : torch.zeros((hidden_size, 1)),\n",
        "        #                    'by'  : torch.zeros((output_size, 1))\n",
        "        #                   }\n",
        "        self.parameters = {'Waa' : torch.randn((hidden_size, hidden_size))*0.01,\n",
        "                           'Wax' : torch.randn((hidden_size, input_size))*0.01 ,\n",
        "                           'Wya' : torch.randn((output_size, hidden_size))*0.01,\n",
        "                           'ba'  : torch.zeros((hidden_size, 1)),\n",
        "                           'by'  : torch.zeros((output_size, 1))\n",
        "                          }\n",
        "         \n",
        "    def forward(self, X):\n",
        "        self.a_list = [torch.zeros(self.hidden_size, X.shape[1])]   # a_list stores output of every activation function\n",
        "        self.a_out = [torch.zeros(self.output_size, X.shape[1])]    # a_out stores output of final activation function\n",
        "        a_prev = torch.randn(self.hidden_size, X.shape[1])\n",
        "        self.X = X\n",
        "        self.ts = X.shape[-1]\n",
        "        for t in range(self.ts):\n",
        "            xt = X[:, :, t]\n",
        "            a_prev = torch.tanh(torch.matmul(self.parameters['Waa'], a_prev) + \n",
        "                                torch.matmul(self.parameters['Wax'], xt) + self.parameters['ba'])\n",
        "            self.a_list.append(a_prev)\n",
        "        a_Out = torch.matmul(self.parameters['Wya'], a_prev) + self.parameters['by']\n",
        "        y_pred = sigmoid(a_Out)\n",
        "        self.a_out.append(a_Out)\n",
        "        self.Y = y_pred\n",
        "        return self.Y\n",
        "    \n",
        "    \n",
        "    def normalize(self):\n",
        "        # Normalize into uniform distribution\n",
        "        for i, j in self.parameters.items():\n",
        "            self.parameters[i] = (j - j.mean())/j.std()\n",
        "            \n",
        "\n",
        "    def clip(self, l):\n",
        "      # To avoid exploding gradient descent, its value is clipped to a range\n",
        "      clamped = []\n",
        "      for i in range(len(l)):\n",
        "        clamped.append(torch.clamp(l[i], min = -0.5, max = 0.5))\n",
        "      return clamped\n",
        "            \n",
        "                                \n",
        "    def backward(self, y, lr=0.001, lmbda = 1.0e-2):\n",
        "        bs = y.shape[-1]\n",
        "        da = self.a_list[0]\n",
        "        dx = torch.zeros(self.X.shape)\n",
        "        dWax = torch.zeros((self.parameters['Wax'].shape))\n",
        "        dWaa = torch.zeros((self.parameters['Waa'].shape))\n",
        "        dba = torch.zeros((self.parameters['ba'].shape))\n",
        "        dWya = torch.zeros((self.parameters['Wya'].shape))\n",
        "        dby = torch.zeros((self.parameters['by'].shape))\n",
        "        \n",
        "        # Cost function\n",
        "        losses = torch.sum(-1.0 * (y.mm(torch.log(self.Y.t()))))\n",
        "\n",
        "        # Calculating gradients\n",
        "        cost = (self.Y - y)\n",
        "        dWya += torch.mm(cost, self.a_out[-1].t())\n",
        "        dby += torch.sum(cost, axis = 1, keepdims=True)\n",
        "        da += torch.mm(self.parameters['Wya'].t(), cost)\n",
        "\n",
        "        ts = self.ts\n",
        "        if ts < 1:\n",
        "          return 0\n",
        "        for t in reversed(range(0, ts)):\n",
        "            xt = self.X[:, :, t]\n",
        "            dz = da * (1 - (self.a_list[t])**2)\n",
        "            dxt = torch.mm(self.parameters['Wax'].t(), dz)\n",
        "            dx[:, :, t] = dxt\n",
        "            dWax += torch.mm(dz, xt.t())\n",
        "            da = torch.mm(self.parameters['Waa'].t(), dz)\n",
        "            dWaa += torch.mm(dz, self.a_list[t-1].t())\n",
        "            dba += torch.sum(dz, axis = 1, keepdims=True)\n",
        "            \n",
        "\n",
        "        (dWax, dWya, dWaa, dba, dby) = self.clip([dWax/ts, dWya/ts, dWaa/ts, dba/ts, dby/ts])\n",
        "        # self.parameters['Wax'] = (1-lr*(lmbda/bs*ts))*self.parameters['Wax']-lr*dWax\n",
        "        # self.parameters['Wya'] = (1-lr*(lmbda/bs*ts))*self.parameters['Wya']-lr*dWya\n",
        "        # self.parameters['Waa'] = (1-lr*(lmbda/bs*ts))*self.parameters['Waa']-lr*dWaa\n",
        "        # self.parameters['ba']  -= lr*dba/self.ts\n",
        "        # self.parameters['by']  -= lr*dby/self.ts\n",
        "        self.parameters['Wax'] -= lr*dWax\n",
        "        self.parameters['Wya'] -= lr*dWya\n",
        "        self.parameters['Waa'] -= lr*dWaa\n",
        "        self.parameters['ba']  -= lr*dba\n",
        "        self.parameters['by']  -= lr*dby\n",
        "        return losses"
      ],
      "execution_count": 0,
      "outputs": []
    },
    {
      "cell_type": "code",
      "metadata": {
        "id": "_DFtNybSMjAu",
        "colab_type": "code",
        "colab": {}
      },
      "source": [
        "# Dimension of word vector is one, word sentiment\n",
        "sentiment = RNN(input_size = 1, hidden_size = 3, output_size = 1, batch_size = 1)"
      ],
      "execution_count": 0,
      "outputs": []
    },
    {
      "cell_type": "code",
      "metadata": {
        "id": "LpNgVwBzoQ31",
        "colab_type": "code",
        "outputId": "d9a32ae8-5f4f-4e68-d646-d4beb230907c",
        "colab": {
          "base_uri": "https://localhost:8080/",
          "height": 346
        }
      },
      "source": [
        "\"\"\"Training on data containing batch size = 1, word sentiments are choosen as word vector\"\"\"\n",
        "for epoch in range(10):\n",
        "  total_cost = 0\n",
        "  acc = 0\n",
        "  for i,j in samples:\n",
        "    pred = sentiment.forward(i)\n",
        "    acc += (pred.round() == j.round())\n",
        "    total_cost += sentiment.backward(j, lr=0.001)\n",
        "    # if (count % 1000 == 0):\n",
        "    #   print(acc)\n",
        "    #   acc = 0\n",
        "    # count += 1\n",
        "  print(epoch, total_cost, (acc/len(samples))*10)"
      ],
      "execution_count": 0,
      "outputs": [
        {
          "output_type": "error",
          "ename": "KeyboardInterrupt",
          "evalue": "ignored",
          "traceback": [
            "\u001b[0;31m---------------------------------------------------------------------------\u001b[0m",
            "\u001b[0;31mKeyboardInterrupt\u001b[0m                         Traceback (most recent call last)",
            "\u001b[0;32m<ipython-input-34-fe916aaef3bb>\u001b[0m in \u001b[0;36m<module>\u001b[0;34m()\u001b[0m\n\u001b[1;32m      6\u001b[0m     \u001b[0mpred\u001b[0m \u001b[0;34m=\u001b[0m \u001b[0msentiment\u001b[0m\u001b[0;34m.\u001b[0m\u001b[0mforward\u001b[0m\u001b[0;34m(\u001b[0m\u001b[0mi\u001b[0m\u001b[0;34m)\u001b[0m\u001b[0;34m\u001b[0m\u001b[0;34m\u001b[0m\u001b[0m\n\u001b[1;32m      7\u001b[0m     \u001b[0macc\u001b[0m \u001b[0;34m+=\u001b[0m \u001b[0;34m(\u001b[0m\u001b[0mpred\u001b[0m\u001b[0;34m.\u001b[0m\u001b[0mround\u001b[0m\u001b[0;34m(\u001b[0m\u001b[0;34m)\u001b[0m \u001b[0;34m==\u001b[0m \u001b[0mj\u001b[0m\u001b[0;34m.\u001b[0m\u001b[0mround\u001b[0m\u001b[0;34m(\u001b[0m\u001b[0;34m)\u001b[0m\u001b[0;34m)\u001b[0m\u001b[0;34m\u001b[0m\u001b[0;34m\u001b[0m\u001b[0m\n\u001b[0;32m----> 8\u001b[0;31m     \u001b[0mtotal_cost\u001b[0m \u001b[0;34m+=\u001b[0m \u001b[0msentiment\u001b[0m\u001b[0;34m.\u001b[0m\u001b[0mbackward\u001b[0m\u001b[0;34m(\u001b[0m\u001b[0mj\u001b[0m\u001b[0;34m,\u001b[0m \u001b[0mlr\u001b[0m\u001b[0;34m=\u001b[0m\u001b[0;36m0.001\u001b[0m\u001b[0;34m)\u001b[0m\u001b[0;34m\u001b[0m\u001b[0;34m\u001b[0m\u001b[0m\n\u001b[0m\u001b[1;32m      9\u001b[0m     \u001b[0;31m# if (count % 1000 == 0):\u001b[0m\u001b[0;34m\u001b[0m\u001b[0;34m\u001b[0m\u001b[0;34m\u001b[0m\u001b[0m\n\u001b[1;32m     10\u001b[0m     \u001b[0;31m#   print(acc)\u001b[0m\u001b[0;34m\u001b[0m\u001b[0;34m\u001b[0m\u001b[0;34m\u001b[0m\u001b[0m\n",
            "\u001b[0;32m<ipython-input-32-8685fd45e82c>\u001b[0m in \u001b[0;36mbackward\u001b[0;34m(self, y, lr, lmbda)\u001b[0m\n\u001b[1;32m     79\u001b[0m             \u001b[0mdx\u001b[0m\u001b[0;34m[\u001b[0m\u001b[0;34m:\u001b[0m\u001b[0;34m,\u001b[0m \u001b[0;34m:\u001b[0m\u001b[0;34m,\u001b[0m \u001b[0mt\u001b[0m\u001b[0;34m]\u001b[0m \u001b[0;34m=\u001b[0m \u001b[0mdxt\u001b[0m\u001b[0;34m\u001b[0m\u001b[0;34m\u001b[0m\u001b[0m\n\u001b[1;32m     80\u001b[0m             \u001b[0mdWax\u001b[0m \u001b[0;34m+=\u001b[0m \u001b[0mtorch\u001b[0m\u001b[0;34m.\u001b[0m\u001b[0mmm\u001b[0m\u001b[0;34m(\u001b[0m\u001b[0mdz\u001b[0m\u001b[0;34m,\u001b[0m \u001b[0mxt\u001b[0m\u001b[0;34m.\u001b[0m\u001b[0mt\u001b[0m\u001b[0;34m(\u001b[0m\u001b[0;34m)\u001b[0m\u001b[0;34m)\u001b[0m\u001b[0;34m\u001b[0m\u001b[0;34m\u001b[0m\u001b[0m\n\u001b[0;32m---> 81\u001b[0;31m             \u001b[0mda\u001b[0m \u001b[0;34m=\u001b[0m \u001b[0mtorch\u001b[0m\u001b[0;34m.\u001b[0m\u001b[0mmm\u001b[0m\u001b[0;34m(\u001b[0m\u001b[0mself\u001b[0m\u001b[0;34m.\u001b[0m\u001b[0mparameters\u001b[0m\u001b[0;34m[\u001b[0m\u001b[0;34m'Waa'\u001b[0m\u001b[0;34m]\u001b[0m\u001b[0;34m.\u001b[0m\u001b[0mt\u001b[0m\u001b[0;34m(\u001b[0m\u001b[0;34m)\u001b[0m\u001b[0;34m,\u001b[0m \u001b[0mdz\u001b[0m\u001b[0;34m)\u001b[0m\u001b[0;34m\u001b[0m\u001b[0;34m\u001b[0m\u001b[0m\n\u001b[0m\u001b[1;32m     82\u001b[0m             \u001b[0mdWaa\u001b[0m \u001b[0;34m+=\u001b[0m \u001b[0mtorch\u001b[0m\u001b[0;34m.\u001b[0m\u001b[0mmm\u001b[0m\u001b[0;34m(\u001b[0m\u001b[0mdz\u001b[0m\u001b[0;34m,\u001b[0m \u001b[0mself\u001b[0m\u001b[0;34m.\u001b[0m\u001b[0ma_list\u001b[0m\u001b[0;34m[\u001b[0m\u001b[0mt\u001b[0m\u001b[0;34m-\u001b[0m\u001b[0;36m1\u001b[0m\u001b[0;34m]\u001b[0m\u001b[0;34m.\u001b[0m\u001b[0mt\u001b[0m\u001b[0;34m(\u001b[0m\u001b[0;34m)\u001b[0m\u001b[0;34m)\u001b[0m\u001b[0;34m\u001b[0m\u001b[0;34m\u001b[0m\u001b[0m\n\u001b[1;32m     83\u001b[0m             \u001b[0mdba\u001b[0m \u001b[0;34m+=\u001b[0m \u001b[0mtorch\u001b[0m\u001b[0;34m.\u001b[0m\u001b[0msum\u001b[0m\u001b[0;34m(\u001b[0m\u001b[0mdz\u001b[0m\u001b[0;34m,\u001b[0m \u001b[0maxis\u001b[0m \u001b[0;34m=\u001b[0m \u001b[0;36m1\u001b[0m\u001b[0;34m,\u001b[0m \u001b[0mkeepdims\u001b[0m\u001b[0;34m=\u001b[0m\u001b[0;32mTrue\u001b[0m\u001b[0;34m)\u001b[0m\u001b[0;34m\u001b[0m\u001b[0;34m\u001b[0m\u001b[0m\n",
            "\u001b[0;31mKeyboardInterrupt\u001b[0m: "
          ]
        }
      ]
    },
    {
      "cell_type": "markdown",
      "metadata": {
        "id": "DKIr614we_ER",
        "colab_type": "text"
      },
      "source": [
        "Used sentiment of each word, but didn't find useful results. \\\n",
        "Selected only important words by applying threshold value.   \\"
      ]
    },
    {
      "cell_type": "code",
      "metadata": {
        "colab_type": "code",
        "id": "6u87L5sXMrJQ",
        "colab": {}
      },
      "source": [
        "# Only words having sentiment greater than 1.0 or less than -1.0\n",
        "\n",
        "samples = []\n",
        "for directory in filepath:\n",
        "    for index, file in enumerate(os.listdir(path + directory)):\n",
        "        with open(path + directory + file, 'r') as f:\n",
        "            text = f.read().strip('\\n').lower()\n",
        "            words = re.findall('[a-z]+', text)\n",
        "            weights = []\n",
        "            for word in words:\n",
        "              if word_idx.get(word) and abs(idx_sent[word_idx[word]]) >= 1.0: # threshold to priotize only important words\n",
        "                weights.append(idx_sent[word_idx[word]])\n",
        "              else:\n",
        "                continue\n",
        "            weights = torch.FloatTensor(weights) \n",
        "            weights = weights.view(1,1,-1) # (input_size, batch_size, time_steps)\n",
        "            match = re.search('_[0-9]+', file)\n",
        "            Y = 0.1 * int(match.group()[1:])\n",
        "            Y = torch.FloatTensor([Y])\n",
        "            Y = Y.view(1,1)\n",
        "            samples.append((weights, Y))"
      ],
      "execution_count": 0,
      "outputs": []
    },
    {
      "cell_type": "code",
      "metadata": {
        "id": "kxvRW61Jj_lH",
        "colab_type": "code",
        "colab": {}
      },
      "source": [
        "# samples_sorted based on number of words\n",
        "samples.sort(key= lambda s: s[0].size(-1))"
      ],
      "execution_count": 0,
      "outputs": []
    },
    {
      "cell_type": "code",
      "metadata": {
        "id": "KmZUoGSPg_Yy",
        "colab_type": "code",
        "colab": {}
      },
      "source": [
        "# Clustering batches of same length\n",
        "batches_s = []\n",
        "x = [samples[0][0]]\n",
        "y = [samples[0][1]]\n",
        "for i in range(1, len(samples)):\n",
        "  if samples[i][0].size(-1) == samples[i-1][0].size(-1):\n",
        "    x.append(samples[i][0])\n",
        "    y.append(samples[i][1])\n",
        "  else:\n",
        "    x = torch.stack(x, dim = 2)\n",
        "    x = x.view(1, x.shape[2], -1)\n",
        "    y = torch.stack(y, dim = 2)\n",
        "    y = y.view(1, y.shape[2])\n",
        "    batches_s.append((x,y))\n",
        "    x = [samples[i][0]]\n",
        "    y = [samples[i][1]]\n",
        "x = torch.stack(x, dim = 2)\n",
        "x = x.view(1, x.shape[2], -1)\n",
        "y = torch.stack(y, dim = 2)\n",
        "y = y.view(1, y.shape[2])\n",
        "batches_s.append((x,y))"
      ],
      "execution_count": 0,
      "outputs": []
    },
    {
      "cell_type": "code",
      "metadata": {
        "colab_type": "code",
        "id": "eXgocpohMwp-",
        "outputId": "41afa2f9-d0f4-4a10-bdbc-dd2d727888d2",
        "colab": {
          "base_uri": "https://localhost:8080/",
          "height": 162
        }
      },
      "source": [
        "# Dimension of word vector is 1, word sentiment\n",
        "sentiment = RNN(input_size = 1, hidden_size = 64, output_size = 1)"
      ],
      "execution_count": 0,
      "outputs": [
        {
          "output_type": "error",
          "ename": "TypeError",
          "evalue": "ignored",
          "traceback": [
            "\u001b[0;31m---------------------------------------------------------------------------\u001b[0m",
            "\u001b[0;31mTypeError\u001b[0m                                 Traceback (most recent call last)",
            "\u001b[0;32m<ipython-input-38-5c035026216c>\u001b[0m in \u001b[0;36m<module>\u001b[0;34m()\u001b[0m\n\u001b[0;32m----> 1\u001b[0;31m \u001b[0msentiment\u001b[0m \u001b[0;34m=\u001b[0m \u001b[0mRNN\u001b[0m\u001b[0;34m(\u001b[0m\u001b[0minput_size\u001b[0m \u001b[0;34m=\u001b[0m \u001b[0;36m1\u001b[0m\u001b[0;34m,\u001b[0m \u001b[0mhidden_size\u001b[0m \u001b[0;34m=\u001b[0m \u001b[0;36m64\u001b[0m\u001b[0;34m,\u001b[0m \u001b[0moutput_size\u001b[0m \u001b[0;34m=\u001b[0m \u001b[0;36m1\u001b[0m\u001b[0;34m)\u001b[0m\u001b[0;34m\u001b[0m\u001b[0;34m\u001b[0m\u001b[0m\n\u001b[0m",
            "\u001b[0;31mTypeError\u001b[0m: __init__() missing 1 required positional argument: 'batch_size'"
          ]
        }
      ]
    },
    {
      "cell_type": "code",
      "metadata": {
        "id": "xxuLG4IJhzvx",
        "colab_type": "code",
        "outputId": "a8ceab69-bd49-4eaf-b005-62b7231643ab",
        "colab": {
          "base_uri": "https://localhost:8080/",
          "height": 689
        }
      },
      "source": [
        "\"\"\"Training on data containing variable batch size each having same number of words, word sentiments are choosen as word vector with threshold\"\"\"\n",
        "for epoch in range(40):\n",
        "  total_cost = 0\n",
        "  acc = 0\n",
        "  sz = 0\n",
        "  for i in batches_s:\n",
        "    sz += i[1].shape[-1]\n",
        "    pred = sentiment.forward(i[0])\n",
        "    acc += torch.sum(pred.round() == i[1].round())\n",
        "    total_cost += sentiment.backward(i[1], lr=0.01)\n",
        "\n",
        "  print(epoch, total_cost, acc.item()/sz)"
      ],
      "execution_count": 0,
      "outputs": [
        {
          "output_type": "stream",
          "text": [
            "0 tensor(8792.1240) 0.55592\n",
            "1 tensor(8005.7119) 0.72696\n",
            "2 tensor(7303.8335) 0.74296\n",
            "3 tensor(7437.5396) 0.78904\n",
            "4 tensor(7870.9746) 0.81544\n",
            "5 tensor(7573.1807) 0.81032\n",
            "6 tensor(7508.7705) 0.80456\n",
            "7 tensor(7309.7900) 0.8078\n",
            "8 tensor(7347.5527) 0.8046\n",
            "9 tensor(7413.9971) 0.79484\n",
            "10 tensor(7382.2266) 0.7932\n",
            "11 tensor(7062.0210) 0.80036\n",
            "12 tensor(7007.3374) 0.79356\n",
            "13 tensor(7094.6006) 0.79688\n",
            "14 tensor(7276.3970) 0.79648\n",
            "15 tensor(7120.0381) 0.7966\n",
            "16 tensor(7182.1431) 0.79264\n",
            "17 tensor(7240.6724) 0.79588\n",
            "18 tensor(7072.0029) 0.79568\n",
            "19 tensor(7178.2671) 0.79712\n",
            "20 tensor(7055.6724) 0.79064\n",
            "21 tensor(7227.4644) 0.79972\n",
            "22 tensor(7165.8589) 0.79832\n",
            "23 tensor(7107.2520) 0.79828\n",
            "24 tensor(7048.2095) 0.79324\n",
            "25 tensor(7111.5381) 0.79804\n",
            "26 tensor(7059.1777) 0.79612\n",
            "27 tensor(7079.7021) 0.79792\n",
            "28 tensor(7057.7715) 0.79728\n",
            "29 tensor(7009.0581) 0.7976\n",
            "30 tensor(7098.6797) 0.7942\n",
            "31 tensor(7095.1919) 0.79672\n",
            "32 tensor(7046.9438) 0.79592\n",
            "33 tensor(7146.7944) 0.79708\n",
            "34 tensor(7081.5288) 0.79692\n",
            "35 tensor(7155.2852) 0.79228\n",
            "36 tensor(7134.1099) 0.7976\n",
            "37 tensor(7108.0845) 0.79268\n",
            "38 tensor(7065.9771) 0.79788\n",
            "39 tensor(7044.2544) 0.79856\n"
          ],
          "name": "stdout"
        }
      ]
    },
    {
      "cell_type": "code",
      "metadata": {
        "colab_type": "code",
        "id": "HL3xa2AT7tbE",
        "colab": {}
      },
      "source": [
        "# Collecting test data\n",
        "test_filepath = ['/test/pos/', 'test/neg/']\n",
        "test_we = []"
      ],
      "execution_count": 0,
      "outputs": []
    },
    {
      "cell_type": "code",
      "metadata": {
        "colab_type": "code",
        "id": "x7PZL_nH7tbQ",
        "colab": {}
      },
      "source": [
        "for directory in test_filepath:\n",
        "    for index, file in enumerate(os.listdir(path + directory)):\n",
        "        with open(path + directory + file, 'r') as f:\n",
        "            text = f.read().strip('\\n').lower()\n",
        "            words = re.findall('[a-z]+', text)\n",
        "            weights = []\n",
        "            for word in words:\n",
        "              if word_idx.get(word) and abs(idx_sent[word_idx[word]]) >= 1.0:\n",
        "                weights.append(idx_sent[word_idx[word]])\n",
        "              else:\n",
        "                continue\n",
        "            weights = torch.FloatTensor(weights) \n",
        "            weights = weights.view(1,1,-1) # (input_size, batch_size, time_steps)\n",
        "            match = re.search('_[0-9]+', file)\n",
        "            Y = 0.1 * int(match.group()[1:])\n",
        "            Y = torch.FloatTensor([Y])\n",
        "            Y = Y.view(1,1)\n",
        "            test_we.append((weights, Y))"
      ],
      "execution_count": 0,
      "outputs": []
    },
    {
      "cell_type": "code",
      "metadata": {
        "colab_type": "code",
        "id": "jIRcNdk87tba",
        "colab": {}
      },
      "source": [
        "# Validation\n",
        "total_cost = 0\n",
        "acc = 0\n",
        "for i,j in test_we:\n",
        "  pred = sentiment.forward(i)\n",
        "  acc += (pred.round() == j.round())\n",
        "  # total_cost += sentiment_glove.backward(j, lr=0.001)\n",
        "print(acc.item()/len(test_we)*100)"
      ],
      "execution_count": 0,
      "outputs": []
    },
    {
      "cell_type": "markdown",
      "metadata": {
        "id": "eUtFPuK1rIQH",
        "colab_type": "text"
      },
      "source": [
        "The sentiment of each word are particularly trained on IMDB dataset, so it performs well here. It is not assured to give better result on other tasks."
      ]
    },
    {
      "cell_type": "markdown",
      "metadata": {
        "id": "7TuUwVmCgN6C",
        "colab_type": "text"
      },
      "source": [
        "Notes:\n",
        "    Removing stopwords may help, but some negatively corelated words such as haven't, wasn, shouldn't also eliminated(based on nltk stopwords). If we use more layers of neural networks, irrelevant words will be automatically filtered."
      ]
    },
    {
      "cell_type": "code",
      "metadata": {
        "id": "ssFXYc-0j6sO",
        "colab_type": "code",
        "colab": {}
      },
      "source": [
        "def normalize_tensor(l):\n",
        "    return 0.01*(l - l.mean(dim = -1, keepdim = True))/(l.std(dim = -1, keepdim = True, unbiased = False) + 1e-6)"
      ],
      "execution_count": 0,
      "outputs": []
    },
    {
      "cell_type": "code",
      "metadata": {
        "id": "fM-JTp0ua9-w",
        "colab_type": "code",
        "colab": {}
      },
      "source": [
        "temp_a = torch.randn(2,5)*0.01"
      ],
      "execution_count": 0,
      "outputs": []
    },
    {
      "cell_type": "code",
      "metadata": {
        "id": "AGnaZii8bCne",
        "colab_type": "code",
        "colab": {}
      },
      "source": [
        "for i in range(50):\n",
        "  print(temp_a)\n",
        "  temp_a = normalize_tensor(temp_a)"
      ],
      "execution_count": 0,
      "outputs": []
    },
    {
      "cell_type": "code",
      "metadata": {
        "id": "khllAjnEbRE7",
        "colab_type": "code",
        "colab": {}
      },
      "source": [
        ""
      ],
      "execution_count": 0,
      "outputs": []
    }
  ]
}